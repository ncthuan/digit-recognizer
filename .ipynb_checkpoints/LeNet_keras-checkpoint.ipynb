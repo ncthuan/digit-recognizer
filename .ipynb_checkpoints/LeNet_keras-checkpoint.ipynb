{
 "cells": [
  {
   "cell_type": "code",
   "execution_count": 1,
   "metadata": {},
   "outputs": [
    {
     "name": "stderr",
     "output_type": "stream",
     "text": [
      "Using TensorFlow backend.\n"
     ]
    }
   ],
   "source": [
    "import numpy as np\n",
    "import pandas as pd\n",
    "import matplotlib.pyplot as plt\n",
    "\n",
    "from keras.models import Model\n",
    "from keras.preprocessing import image\n",
    "from keras.layers import Input, Dense, Activation, BatchNormalization, Flatten, Conv2D, MaxPooling2D\n",
    "from sklearn.model_selection import train_test_split\n",
    "from sklearn.preprocessing import LabelBinarizer\n",
    "\n",
    "import keras.backend as K\n",
    "K.set_image_data_format('channels_last')\n",
    "%matplotlib inline"
   ]
  },
  {
   "cell_type": "markdown",
   "metadata": {},
   "source": [
    "## Load & split the dataset:"
   ]
  },
  {
   "cell_type": "code",
   "execution_count": 2,
   "metadata": {},
   "outputs": [],
   "source": [
    "train_data = pd.read_csv(\"datasets/train.csv\")"
   ]
  },
  {
   "cell_type": "code",
   "execution_count": 3,
   "metadata": {},
   "outputs": [
    {
     "data": {
      "text/html": [
       "<div>\n",
       "<style scoped>\n",
       "    .dataframe tbody tr th:only-of-type {\n",
       "        vertical-align: middle;\n",
       "    }\n",
       "\n",
       "    .dataframe tbody tr th {\n",
       "        vertical-align: top;\n",
       "    }\n",
       "\n",
       "    .dataframe thead th {\n",
       "        text-align: right;\n",
       "    }\n",
       "</style>\n",
       "<table border=\"1\" class=\"dataframe\">\n",
       "  <thead>\n",
       "    <tr style=\"text-align: right;\">\n",
       "      <th></th>\n",
       "      <th>label</th>\n",
       "      <th>pixel0</th>\n",
       "      <th>pixel1</th>\n",
       "      <th>pixel2</th>\n",
       "      <th>pixel3</th>\n",
       "      <th>pixel4</th>\n",
       "      <th>pixel5</th>\n",
       "      <th>pixel6</th>\n",
       "      <th>pixel7</th>\n",
       "      <th>pixel8</th>\n",
       "      <th>...</th>\n",
       "      <th>pixel774</th>\n",
       "      <th>pixel775</th>\n",
       "      <th>pixel776</th>\n",
       "      <th>pixel777</th>\n",
       "      <th>pixel778</th>\n",
       "      <th>pixel779</th>\n",
       "      <th>pixel780</th>\n",
       "      <th>pixel781</th>\n",
       "      <th>pixel782</th>\n",
       "      <th>pixel783</th>\n",
       "    </tr>\n",
       "  </thead>\n",
       "  <tbody>\n",
       "    <tr>\n",
       "      <th>0</th>\n",
       "      <td>1</td>\n",
       "      <td>0</td>\n",
       "      <td>0</td>\n",
       "      <td>0</td>\n",
       "      <td>0</td>\n",
       "      <td>0</td>\n",
       "      <td>0</td>\n",
       "      <td>0</td>\n",
       "      <td>0</td>\n",
       "      <td>0</td>\n",
       "      <td>...</td>\n",
       "      <td>0</td>\n",
       "      <td>0</td>\n",
       "      <td>0</td>\n",
       "      <td>0</td>\n",
       "      <td>0</td>\n",
       "      <td>0</td>\n",
       "      <td>0</td>\n",
       "      <td>0</td>\n",
       "      <td>0</td>\n",
       "      <td>0</td>\n",
       "    </tr>\n",
       "    <tr>\n",
       "      <th>1</th>\n",
       "      <td>0</td>\n",
       "      <td>0</td>\n",
       "      <td>0</td>\n",
       "      <td>0</td>\n",
       "      <td>0</td>\n",
       "      <td>0</td>\n",
       "      <td>0</td>\n",
       "      <td>0</td>\n",
       "      <td>0</td>\n",
       "      <td>0</td>\n",
       "      <td>...</td>\n",
       "      <td>0</td>\n",
       "      <td>0</td>\n",
       "      <td>0</td>\n",
       "      <td>0</td>\n",
       "      <td>0</td>\n",
       "      <td>0</td>\n",
       "      <td>0</td>\n",
       "      <td>0</td>\n",
       "      <td>0</td>\n",
       "      <td>0</td>\n",
       "    </tr>\n",
       "    <tr>\n",
       "      <th>2</th>\n",
       "      <td>1</td>\n",
       "      <td>0</td>\n",
       "      <td>0</td>\n",
       "      <td>0</td>\n",
       "      <td>0</td>\n",
       "      <td>0</td>\n",
       "      <td>0</td>\n",
       "      <td>0</td>\n",
       "      <td>0</td>\n",
       "      <td>0</td>\n",
       "      <td>...</td>\n",
       "      <td>0</td>\n",
       "      <td>0</td>\n",
       "      <td>0</td>\n",
       "      <td>0</td>\n",
       "      <td>0</td>\n",
       "      <td>0</td>\n",
       "      <td>0</td>\n",
       "      <td>0</td>\n",
       "      <td>0</td>\n",
       "      <td>0</td>\n",
       "    </tr>\n",
       "    <tr>\n",
       "      <th>3</th>\n",
       "      <td>4</td>\n",
       "      <td>0</td>\n",
       "      <td>0</td>\n",
       "      <td>0</td>\n",
       "      <td>0</td>\n",
       "      <td>0</td>\n",
       "      <td>0</td>\n",
       "      <td>0</td>\n",
       "      <td>0</td>\n",
       "      <td>0</td>\n",
       "      <td>...</td>\n",
       "      <td>0</td>\n",
       "      <td>0</td>\n",
       "      <td>0</td>\n",
       "      <td>0</td>\n",
       "      <td>0</td>\n",
       "      <td>0</td>\n",
       "      <td>0</td>\n",
       "      <td>0</td>\n",
       "      <td>0</td>\n",
       "      <td>0</td>\n",
       "    </tr>\n",
       "    <tr>\n",
       "      <th>4</th>\n",
       "      <td>0</td>\n",
       "      <td>0</td>\n",
       "      <td>0</td>\n",
       "      <td>0</td>\n",
       "      <td>0</td>\n",
       "      <td>0</td>\n",
       "      <td>0</td>\n",
       "      <td>0</td>\n",
       "      <td>0</td>\n",
       "      <td>0</td>\n",
       "      <td>...</td>\n",
       "      <td>0</td>\n",
       "      <td>0</td>\n",
       "      <td>0</td>\n",
       "      <td>0</td>\n",
       "      <td>0</td>\n",
       "      <td>0</td>\n",
       "      <td>0</td>\n",
       "      <td>0</td>\n",
       "      <td>0</td>\n",
       "      <td>0</td>\n",
       "    </tr>\n",
       "  </tbody>\n",
       "</table>\n",
       "<p>5 rows × 785 columns</p>\n",
       "</div>"
      ],
      "text/plain": [
       "   label  pixel0  pixel1  pixel2  pixel3  pixel4  pixel5  pixel6  pixel7  \\\n",
       "0      1       0       0       0       0       0       0       0       0   \n",
       "1      0       0       0       0       0       0       0       0       0   \n",
       "2      1       0       0       0       0       0       0       0       0   \n",
       "3      4       0       0       0       0       0       0       0       0   \n",
       "4      0       0       0       0       0       0       0       0       0   \n",
       "\n",
       "   pixel8  ...  pixel774  pixel775  pixel776  pixel777  pixel778  pixel779  \\\n",
       "0       0  ...         0         0         0         0         0         0   \n",
       "1       0  ...         0         0         0         0         0         0   \n",
       "2       0  ...         0         0         0         0         0         0   \n",
       "3       0  ...         0         0         0         0         0         0   \n",
       "4       0  ...         0         0         0         0         0         0   \n",
       "\n",
       "   pixel780  pixel781  pixel782  pixel783  \n",
       "0         0         0         0         0  \n",
       "1         0         0         0         0  \n",
       "2         0         0         0         0  \n",
       "3         0         0         0         0  \n",
       "4         0         0         0         0  \n",
       "\n",
       "[5 rows x 785 columns]"
      ]
     },
     "execution_count": 3,
     "metadata": {},
     "output_type": "execute_result"
    }
   ],
   "source": [
    "train_data.head()"
   ]
  },
  {
   "cell_type": "code",
   "execution_count": 4,
   "metadata": {},
   "outputs": [],
   "source": [
    "train_data = train_data.to_numpy(dtype='float32')"
   ]
  },
  {
   "cell_type": "code",
   "execution_count": 5,
   "metadata": {},
   "outputs": [],
   "source": [
    "X_train, X_dev, Y_train, Y_dev = train_test_split(train_data[:,1:], train_data[:,0], test_size = 0.2)"
   ]
  },
  {
   "cell_type": "code",
   "execution_count": 6,
   "metadata": {},
   "outputs": [],
   "source": [
    "# Rescale to 0.0-1.0 range \n",
    "X_train /= 255.0\n",
    "X_dev /= 255.0\n",
    "\n",
    "# Reshape into (#img, w, h, #channel) format\n",
    "if K.image_data_format() == \"channels_first\":\n",
    "    X_train = X_train.reshape(X_train.shape[0], 1, 28, 28)\n",
    "    X_dev = X_dev.reshape(X_dev.shape[0], 1, 28, 28)\n",
    "else:\n",
    "    X_train = X_train.reshape(X_train.shape[0], 28, 28, 1)\n",
    "    X_dev = X_dev.reshape(X_dev.shape[0], 28, 28, 1)"
   ]
  },
  {
   "cell_type": "code",
   "execution_count": 8,
   "metadata": {},
   "outputs": [],
   "source": [
    "# Convert labels to one hot encoding\n",
    "lb = LabelBinarizer()\n",
    "Y_train = lb.fit_transform(Y_train)\n",
    "Y_dev = lb.transform(Y_dev)"
   ]
  },
  {
   "cell_type": "code",
   "execution_count": 9,
   "metadata": {},
   "outputs": [
    {
     "name": "stdout",
     "output_type": "stream",
     "text": [
      "(33600, 28, 28, 1) (33600, 10)\n",
      "(8400, 28, 28, 1) (8400, 10)\n"
     ]
    }
   ],
   "source": [
    "print(X_train.shape, Y_train.shape)\n",
    "print(X_dev.shape, Y_dev.shape)"
   ]
  },
  {
   "cell_type": "code",
   "execution_count": 12,
   "metadata": {},
   "outputs": [
    {
     "name": "stdout",
     "output_type": "stream",
     "text": [
      "label = [0 1 0 0 0 0 0 0 0 0]\n"
     ]
    },
    {
     "data": {
      "image/png": "[encoded data removed]",
      "text/plain": [
       "<Figure size 432x288 with 1 Axes>"
      ]
     },
     "metadata": {
      "needs_background": "light"
     },
     "output_type": "display_data"
    }
   ],
   "source": [
    "# Example of a picture\n",
    "index = 0\n",
    "plt.imshow(X_train[index].reshape((28,28)))\n",
    "print(\"label = \" + str(Y_train[index]))"
   ]
  },
  {
   "cell_type": "markdown",
   "metadata": {},
   "source": [
    "## Function for building a model with LeNet-similar architecture:"
   ]
  },
  {
   "cell_type": "code",
   "execution_count": 13,
   "metadata": {},
   "outputs": [],
   "source": [
    "def build_LeNet(input_shape, output_shape):\n",
    "    \"\"\"\n",
    "    Implementation of the LeNet.\n",
    "    \n",
    "    Arguments:\n",
    "    input_shape -- shape of the images of the dataset\n",
    "        (height, width, channels) as a tuple.  \n",
    "        Note that this does not include the 'batch' as a dimension.\n",
    "    output_shape -- number of classes\n",
    "        \n",
    "    Returns:\n",
    "    model -- a Model() instance in Keras\n",
    "    \"\"\"\n",
    "    \n",
    "    # Define the input placeholder as a tensor with shape input_shape. Think of this as your input image!\n",
    "    X_input = Input(input_shape)\n",
    "\n",
    "    # CONV1 -> RELU -> BN\n",
    "    X = Conv2D(16, kernel_size=(5, 5), strides = (1, 1), padding='same', name = 'conv1')(X_input)\n",
    "    X = Activation('relu')(X)\n",
    "    #X = BatchNormalization(axis = 3, name = 'bn1')(X)\n",
    "\n",
    "    # MAXPOOL 1\n",
    "    X = MaxPooling2D(pool_size=(2, 2), name='maxPool1')(X)\n",
    "    \n",
    "    # CONV2 -> RELU -> BN\n",
    "    X = Conv2D(32, kernel_size=(5, 5), strides = (1, 1), padding='valid', name = 'conv2')(X)\n",
    "    X = Activation('relu')(X)\n",
    "    #X = BatchNormalization(axis = 3, name = 'bn2')(X)\n",
    "\n",
    "    # MAXPOOL 2\n",
    "    X = MaxPooling2D(pool_size=(2, 2), name='maxPool2')(X)\n",
    "\n",
    "    # FLATTEN X + FULLYCONNECTED\n",
    "    X = Flatten()(X)\n",
    "    X = Dense(200, activation='relu', name='fc1')(X)\n",
    "    X = Dense(50, activation='relu', name='fc2')(X)\n",
    "    \n",
    "    X = Dense(10, activation='softmax', name='output')(X)\n",
    "\n",
    "    # Create model. This creates your Keras model instance, you'll use this instance to train/test the model.\n",
    "    model = Model(inputs = X_input, outputs = X, name='LeNet')\n",
    "    \n",
    "    return model"
   ]
  },
  {
   "cell_type": "markdown",
   "metadata": {},
   "source": [
    "## Create model instance and train:"
   ]
  },
  {
   "cell_type": "code",
   "execution_count": 14,
   "metadata": {},
   "outputs": [],
   "source": [
    "LeNet = build_LeNet(input_shape=X_train[0].shape, output_shape=10)"
   ]
  },
  {
   "cell_type": "code",
   "execution_count": 15,
   "metadata": {},
   "outputs": [],
   "source": [
    "LeNet.compile(optimizer = \"adam\", loss = \"categorical_crossentropy\", metrics = [\"accuracy\"])"
   ]
  },
  {
   "cell_type": "code",
   "execution_count": 16,
   "metadata": {},
   "outputs": [
    {
     "name": "stdout",
     "output_type": "stream",
     "text": [
      "Train on 33600 samples, validate on 8400 samples\n",
      "Epoch 1/50\n",
      "33600/33600 [==============================] - 15s 439us/step - loss: 0.3616 - accuracy: 0.8898 - val_loss: 0.1153 - val_accuracy: 0.9629\n",
      "Epoch 2/50\n",
      "33600/33600 [==============================] - 14s 419us/step - loss: 0.0808 - accuracy: 0.9765 - val_loss: 0.0696 - val_accuracy: 0.9760\n",
      "Epoch 3/50\n",
      "33600/33600 [==============================] - 16s 478us/step - loss: 0.0538 - accuracy: 0.9833 - val_loss: 0.0640 - val_accuracy: 0.9799\n",
      "Epoch 4/50\n",
      "33600/33600 [==============================] - 16s 487us/step - loss: 0.0408 - accuracy: 0.9876 - val_loss: 0.0478 - val_accuracy: 0.9858\n",
      "Epoch 5/50\n",
      "33600/33600 [==============================] - 16s 467us/step - loss: 0.0308 - accuracy: 0.9901 - val_loss: 0.0407 - val_accuracy: 0.9882\n",
      "Epoch 6/50\n",
      "33600/33600 [==============================] - 16s 465us/step - loss: 0.0248 - accuracy: 0.9917 - val_loss: 0.0567 - val_accuracy: 0.9830\n",
      "Epoch 7/50\n",
      "33600/33600 [==============================] - 16s 475us/step - loss: 0.0203 - accuracy: 0.9937 - val_loss: 0.0502 - val_accuracy: 0.9849\n",
      "Epoch 8/50\n",
      "33600/33600 [==============================] - 16s 477us/step - loss: 0.0157 - accuracy: 0.9948 - val_loss: 0.0394 - val_accuracy: 0.9887\n",
      "Epoch 9/50\n",
      "33600/33600 [==============================] - 16s 487us/step - loss: 0.0138 - accuracy: 0.9954 - val_loss: 0.0481 - val_accuracy: 0.9862\n",
      "Epoch 10/50\n",
      "33600/33600 [==============================] - 16s 491us/step - loss: 0.0116 - accuracy: 0.9959 - val_loss: 0.0418 - val_accuracy: 0.9888\n",
      "Epoch 11/50\n",
      "33600/33600 [==============================] - 17s 492us/step - loss: 0.0106 - accuracy: 0.9966 - val_loss: 0.0495 - val_accuracy: 0.9873\n",
      "Epoch 12/50\n",
      "33600/33600 [==============================] - 17s 493us/step - loss: 0.0096 - accuracy: 0.9968 - val_loss: 0.0463 - val_accuracy: 0.9876\n",
      "Epoch 13/50\n",
      "33600/33600 [==============================] - 17s 494us/step - loss: 0.0073 - accuracy: 0.9976 - val_loss: 0.0544 - val_accuracy: 0.9868\n",
      "Epoch 14/50\n",
      "33600/33600 [==============================] - 16s 486us/step - loss: 0.0100 - accuracy: 0.9963 - val_loss: 0.0428 - val_accuracy: 0.9888\n",
      "Epoch 15/50\n",
      " 4096/33600 [==>...........................] - ETA: 13s - loss: 0.0057 - accuracy: 0.9978"
     ]
    },
    {
     "ename": "KeyboardInterrupt",
     "evalue": "",
     "output_type": "error",
     "traceback": [
      "\u001b[1;31m---------------------------------------------------------------------------\u001b[0m",
      "\u001b[1;31mKeyboardInterrupt\u001b[0m                         Traceback (most recent call last)",
      "\u001b[1;32m<ipython-input-16-75074f433feb>\u001b[0m in \u001b[0;36m<module>\u001b[1;34m\u001b[0m\n\u001b[1;32m----> 1\u001b[1;33m \u001b[0mLeNet\u001b[0m\u001b[1;33m.\u001b[0m\u001b[0mfit\u001b[0m\u001b[1;33m(\u001b[0m\u001b[0mx\u001b[0m \u001b[1;33m=\u001b[0m \u001b[0mX_train\u001b[0m\u001b[1;33m,\u001b[0m \u001b[0my\u001b[0m \u001b[1;33m=\u001b[0m \u001b[0mY_train\u001b[0m\u001b[1;33m,\u001b[0m \u001b[0mvalidation_data\u001b[0m\u001b[1;33m=\u001b[0m\u001b[1;33m(\u001b[0m\u001b[0mX_dev\u001b[0m\u001b[1;33m,\u001b[0m \u001b[0mY_dev\u001b[0m\u001b[1;33m)\u001b[0m\u001b[1;33m,\u001b[0m \u001b[0mepochs\u001b[0m \u001b[1;33m=\u001b[0m \u001b[1;36m50\u001b[0m\u001b[1;33m,\u001b[0m \u001b[0mbatch_size\u001b[0m \u001b[1;33m=\u001b[0m \u001b[1;36m128\u001b[0m\u001b[1;33m)\u001b[0m\u001b[1;33m\u001b[0m\u001b[1;33m\u001b[0m\u001b[0m\n\u001b[0m",
      "\u001b[1;32m~\\Anaconda3\\envs\\tfe\\lib\\site-packages\\keras\\engine\\training.py\u001b[0m in \u001b[0;36mfit\u001b[1;34m(self, x, y, batch_size, epochs, verbose, callbacks, validation_split, validation_data, shuffle, class_weight, sample_weight, initial_epoch, steps_per_epoch, validation_steps, validation_freq, max_queue_size, workers, use_multiprocessing, **kwargs)\u001b[0m\n\u001b[0;32m   1237\u001b[0m                                         \u001b[0msteps_per_epoch\u001b[0m\u001b[1;33m=\u001b[0m\u001b[0msteps_per_epoch\u001b[0m\u001b[1;33m,\u001b[0m\u001b[1;33m\u001b[0m\u001b[1;33m\u001b[0m\u001b[0m\n\u001b[0;32m   1238\u001b[0m                                         \u001b[0mvalidation_steps\u001b[0m\u001b[1;33m=\u001b[0m\u001b[0mvalidation_steps\u001b[0m\u001b[1;33m,\u001b[0m\u001b[1;33m\u001b[0m\u001b[1;33m\u001b[0m\u001b[0m\n\u001b[1;32m-> 1239\u001b[1;33m                                         validation_freq=validation_freq)\n\u001b[0m\u001b[0;32m   1240\u001b[0m \u001b[1;33m\u001b[0m\u001b[0m\n\u001b[0;32m   1241\u001b[0m     def evaluate(self,\n",
      "\u001b[1;32m~\\Anaconda3\\envs\\tfe\\lib\\site-packages\\keras\\engine\\training_arrays.py\u001b[0m in \u001b[0;36mfit_loop\u001b[1;34m(model, fit_function, fit_inputs, out_labels, batch_size, epochs, verbose, callbacks, val_function, val_inputs, shuffle, initial_epoch, steps_per_epoch, validation_steps, validation_freq)\u001b[0m\n\u001b[0;32m    194\u001b[0m                     \u001b[0mins_batch\u001b[0m\u001b[1;33m[\u001b[0m\u001b[0mi\u001b[0m\u001b[1;33m]\u001b[0m \u001b[1;33m=\u001b[0m \u001b[0mins_batch\u001b[0m\u001b[1;33m[\u001b[0m\u001b[0mi\u001b[0m\u001b[1;33m]\u001b[0m\u001b[1;33m.\u001b[0m\u001b[0mtoarray\u001b[0m\u001b[1;33m(\u001b[0m\u001b[1;33m)\u001b[0m\u001b[1;33m\u001b[0m\u001b[1;33m\u001b[0m\u001b[0m\n\u001b[0;32m    195\u001b[0m \u001b[1;33m\u001b[0m\u001b[0m\n\u001b[1;32m--> 196\u001b[1;33m                 \u001b[0mouts\u001b[0m \u001b[1;33m=\u001b[0m \u001b[0mfit_function\u001b[0m\u001b[1;33m(\u001b[0m\u001b[0mins_batch\u001b[0m\u001b[1;33m)\u001b[0m\u001b[1;33m\u001b[0m\u001b[1;33m\u001b[0m\u001b[0m\n\u001b[0m\u001b[0;32m    197\u001b[0m                 \u001b[0mouts\u001b[0m \u001b[1;33m=\u001b[0m \u001b[0mto_list\u001b[0m\u001b[1;33m(\u001b[0m\u001b[0mouts\u001b[0m\u001b[1;33m)\u001b[0m\u001b[1;33m\u001b[0m\u001b[1;33m\u001b[0m\u001b[0m\n\u001b[0;32m    198\u001b[0m                 \u001b[1;32mfor\u001b[0m \u001b[0ml\u001b[0m\u001b[1;33m,\u001b[0m \u001b[0mo\u001b[0m \u001b[1;32min\u001b[0m \u001b[0mzip\u001b[0m\u001b[1;33m(\u001b[0m\u001b[0mout_labels\u001b[0m\u001b[1;33m,\u001b[0m \u001b[0mouts\u001b[0m\u001b[1;33m)\u001b[0m\u001b[1;33m:\u001b[0m\u001b[1;33m\u001b[0m\u001b[1;33m\u001b[0m\u001b[0m\n",
      "\u001b[1;32m~\\Anaconda3\\envs\\tfe\\lib\\site-packages\\tensorflow_core\\python\\keras\\backend.py\u001b[0m in \u001b[0;36m__call__\u001b[1;34m(self, inputs)\u001b[0m\n\u001b[0;32m   3725\u001b[0m         \u001b[0mvalue\u001b[0m \u001b[1;33m=\u001b[0m \u001b[0mmath_ops\u001b[0m\u001b[1;33m.\u001b[0m\u001b[0mcast\u001b[0m\u001b[1;33m(\u001b[0m\u001b[0mvalue\u001b[0m\u001b[1;33m,\u001b[0m \u001b[0mtensor\u001b[0m\u001b[1;33m.\u001b[0m\u001b[0mdtype\u001b[0m\u001b[1;33m)\u001b[0m\u001b[1;33m\u001b[0m\u001b[1;33m\u001b[0m\u001b[0m\n\u001b[0;32m   3726\u001b[0m       \u001b[0mconverted_inputs\u001b[0m\u001b[1;33m.\u001b[0m\u001b[0mappend\u001b[0m\u001b[1;33m(\u001b[0m\u001b[0mvalue\u001b[0m\u001b[1;33m)\u001b[0m\u001b[1;33m\u001b[0m\u001b[1;33m\u001b[0m\u001b[0m\n\u001b[1;32m-> 3727\u001b[1;33m     \u001b[0moutputs\u001b[0m \u001b[1;33m=\u001b[0m \u001b[0mself\u001b[0m\u001b[1;33m.\u001b[0m\u001b[0m_graph_fn\u001b[0m\u001b[1;33m(\u001b[0m\u001b[1;33m*\u001b[0m\u001b[0mconverted_inputs\u001b[0m\u001b[1;33m)\u001b[0m\u001b[1;33m\u001b[0m\u001b[1;33m\u001b[0m\u001b[0m\n\u001b[0m\u001b[0;32m   3728\u001b[0m \u001b[1;33m\u001b[0m\u001b[0m\n\u001b[0;32m   3729\u001b[0m     \u001b[1;31m# EagerTensor.numpy() will often make a copy to ensure memory safety.\u001b[0m\u001b[1;33m\u001b[0m\u001b[1;33m\u001b[0m\u001b[1;33m\u001b[0m\u001b[0m\n",
      "\u001b[1;32m~\\Anaconda3\\envs\\tfe\\lib\\site-packages\\tensorflow_core\\python\\eager\\function.py\u001b[0m in \u001b[0;36m__call__\u001b[1;34m(self, *args, **kwargs)\u001b[0m\n\u001b[0;32m   1549\u001b[0m       \u001b[0mTypeError\u001b[0m\u001b[1;33m:\u001b[0m \u001b[0mFor\u001b[0m \u001b[0minvalid\u001b[0m \u001b[0mpositional\u001b[0m\u001b[1;33m/\u001b[0m\u001b[0mkeyword\u001b[0m \u001b[0margument\u001b[0m \u001b[0mcombinations\u001b[0m\u001b[1;33m.\u001b[0m\u001b[1;33m\u001b[0m\u001b[1;33m\u001b[0m\u001b[0m\n\u001b[0;32m   1550\u001b[0m     \"\"\"\n\u001b[1;32m-> 1551\u001b[1;33m     \u001b[1;32mreturn\u001b[0m \u001b[0mself\u001b[0m\u001b[1;33m.\u001b[0m\u001b[0m_call_impl\u001b[0m\u001b[1;33m(\u001b[0m\u001b[0margs\u001b[0m\u001b[1;33m,\u001b[0m \u001b[0mkwargs\u001b[0m\u001b[1;33m)\u001b[0m\u001b[1;33m\u001b[0m\u001b[1;33m\u001b[0m\u001b[0m\n\u001b[0m\u001b[0;32m   1552\u001b[0m \u001b[1;33m\u001b[0m\u001b[0m\n\u001b[0;32m   1553\u001b[0m   \u001b[1;32mdef\u001b[0m \u001b[0m_call_impl\u001b[0m\u001b[1;33m(\u001b[0m\u001b[0mself\u001b[0m\u001b[1;33m,\u001b[0m \u001b[0margs\u001b[0m\u001b[1;33m,\u001b[0m \u001b[0mkwargs\u001b[0m\u001b[1;33m,\u001b[0m \u001b[0mcancellation_manager\u001b[0m\u001b[1;33m=\u001b[0m\u001b[1;32mNone\u001b[0m\u001b[1;33m)\u001b[0m\u001b[1;33m:\u001b[0m\u001b[1;33m\u001b[0m\u001b[1;33m\u001b[0m\u001b[0m\n",
      "\u001b[1;32m~\\Anaconda3\\envs\\tfe\\lib\\site-packages\\tensorflow_core\\python\\eager\\function.py\u001b[0m in \u001b[0;36m_call_impl\u001b[1;34m(self, args, kwargs, cancellation_manager)\u001b[0m\n\u001b[0;32m   1589\u001b[0m       raise TypeError(\"Keyword arguments {} unknown. Expected {}.\".format(\n\u001b[0;32m   1590\u001b[0m           list(kwargs.keys()), list(self._arg_keywords)))\n\u001b[1;32m-> 1591\u001b[1;33m     \u001b[1;32mreturn\u001b[0m \u001b[0mself\u001b[0m\u001b[1;33m.\u001b[0m\u001b[0m_call_flat\u001b[0m\u001b[1;33m(\u001b[0m\u001b[0margs\u001b[0m\u001b[1;33m,\u001b[0m \u001b[0mself\u001b[0m\u001b[1;33m.\u001b[0m\u001b[0mcaptured_inputs\u001b[0m\u001b[1;33m,\u001b[0m \u001b[0mcancellation_manager\u001b[0m\u001b[1;33m)\u001b[0m\u001b[1;33m\u001b[0m\u001b[1;33m\u001b[0m\u001b[0m\n\u001b[0m\u001b[0;32m   1592\u001b[0m \u001b[1;33m\u001b[0m\u001b[0m\n\u001b[0;32m   1593\u001b[0m   \u001b[1;32mdef\u001b[0m \u001b[0m_filtered_call\u001b[0m\u001b[1;33m(\u001b[0m\u001b[0mself\u001b[0m\u001b[1;33m,\u001b[0m \u001b[0margs\u001b[0m\u001b[1;33m,\u001b[0m \u001b[0mkwargs\u001b[0m\u001b[1;33m)\u001b[0m\u001b[1;33m:\u001b[0m\u001b[1;33m\u001b[0m\u001b[1;33m\u001b[0m\u001b[0m\n",
      "\u001b[1;32m~\\Anaconda3\\envs\\tfe\\lib\\site-packages\\tensorflow_core\\python\\eager\\function.py\u001b[0m in \u001b[0;36m_call_flat\u001b[1;34m(self, args, captured_inputs, cancellation_manager)\u001b[0m\n\u001b[0;32m   1690\u001b[0m       \u001b[1;31m# No tape is watching; skip to running the function.\u001b[0m\u001b[1;33m\u001b[0m\u001b[1;33m\u001b[0m\u001b[1;33m\u001b[0m\u001b[0m\n\u001b[0;32m   1691\u001b[0m       return self._build_call_outputs(self._inference_function.call(\n\u001b[1;32m-> 1692\u001b[1;33m           ctx, args, cancellation_manager=cancellation_manager))\n\u001b[0m\u001b[0;32m   1693\u001b[0m     forward_backward = self._select_forward_and_backward_functions(\n\u001b[0;32m   1694\u001b[0m         \u001b[0margs\u001b[0m\u001b[1;33m,\u001b[0m\u001b[1;33m\u001b[0m\u001b[1;33m\u001b[0m\u001b[0m\n",
      "\u001b[1;32m~\\Anaconda3\\envs\\tfe\\lib\\site-packages\\tensorflow_core\\python\\eager\\function.py\u001b[0m in \u001b[0;36mcall\u001b[1;34m(self, ctx, args, cancellation_manager)\u001b[0m\n\u001b[0;32m    543\u001b[0m               \u001b[0minputs\u001b[0m\u001b[1;33m=\u001b[0m\u001b[0margs\u001b[0m\u001b[1;33m,\u001b[0m\u001b[1;33m\u001b[0m\u001b[1;33m\u001b[0m\u001b[0m\n\u001b[0;32m    544\u001b[0m               \u001b[0mattrs\u001b[0m\u001b[1;33m=\u001b[0m\u001b[1;33m(\u001b[0m\u001b[1;34m\"executor_type\"\u001b[0m\u001b[1;33m,\u001b[0m \u001b[0mexecutor_type\u001b[0m\u001b[1;33m,\u001b[0m \u001b[1;34m\"config_proto\"\u001b[0m\u001b[1;33m,\u001b[0m \u001b[0mconfig\u001b[0m\u001b[1;33m)\u001b[0m\u001b[1;33m,\u001b[0m\u001b[1;33m\u001b[0m\u001b[1;33m\u001b[0m\u001b[0m\n\u001b[1;32m--> 545\u001b[1;33m               ctx=ctx)\n\u001b[0m\u001b[0;32m    546\u001b[0m         \u001b[1;32melse\u001b[0m\u001b[1;33m:\u001b[0m\u001b[1;33m\u001b[0m\u001b[1;33m\u001b[0m\u001b[0m\n\u001b[0;32m    547\u001b[0m           outputs = execute.execute_with_cancellation(\n",
      "\u001b[1;32m~\\Anaconda3\\envs\\tfe\\lib\\site-packages\\tensorflow_core\\python\\eager\\execute.py\u001b[0m in \u001b[0;36mquick_execute\u001b[1;34m(op_name, num_outputs, inputs, attrs, ctx, name)\u001b[0m\n\u001b[0;32m     59\u001b[0m     tensors = pywrap_tensorflow.TFE_Py_Execute(ctx._handle, device_name,\n\u001b[0;32m     60\u001b[0m                                                \u001b[0mop_name\u001b[0m\u001b[1;33m,\u001b[0m \u001b[0minputs\u001b[0m\u001b[1;33m,\u001b[0m \u001b[0mattrs\u001b[0m\u001b[1;33m,\u001b[0m\u001b[1;33m\u001b[0m\u001b[1;33m\u001b[0m\u001b[0m\n\u001b[1;32m---> 61\u001b[1;33m                                                num_outputs)\n\u001b[0m\u001b[0;32m     62\u001b[0m   \u001b[1;32mexcept\u001b[0m \u001b[0mcore\u001b[0m\u001b[1;33m.\u001b[0m\u001b[0m_NotOkStatusException\u001b[0m \u001b[1;32mas\u001b[0m \u001b[0me\u001b[0m\u001b[1;33m:\u001b[0m\u001b[1;33m\u001b[0m\u001b[1;33m\u001b[0m\u001b[0m\n\u001b[0;32m     63\u001b[0m     \u001b[1;32mif\u001b[0m \u001b[0mname\u001b[0m \u001b[1;32mis\u001b[0m \u001b[1;32mnot\u001b[0m \u001b[1;32mNone\u001b[0m\u001b[1;33m:\u001b[0m\u001b[1;33m\u001b[0m\u001b[1;33m\u001b[0m\u001b[0m\n",
      "\u001b[1;31mKeyboardInterrupt\u001b[0m: "
     ]
    }
   ],
   "source": [
    "LeNet.fit(x = X_train, y = Y_train, validation_data=(X_dev, Y_dev), epochs = 50, batch_size = 128)"
   ]
  },
  {
   "cell_type": "markdown",
   "metadata": {},
   "source": [
    "## Evaluate:"
   ]
  },
  {
   "cell_type": "code",
   "execution_count": 18,
   "metadata": {},
   "outputs": [
    {
     "name": "stdout",
     "output_type": "stream",
     "text": [
      "8400/8400 [==============================] - 1s 108us/step\n",
      "\n",
      "Loss = 0.05095515356084174\n",
      "Test Accuracy = 0.9870238304138184\n"
     ]
    }
   ],
   "source": [
    "devset_predictions = LeNet.evaluate(x=X_dev, y=Y_dev)\n",
    "print()\n",
    "print(\"Loss = \" + str(devset_predictions[0]))\n",
    "print(\"Test Accuracy = \" + str(devset_predictions[1]))"
   ]
  },
  {
   "cell_type": "code",
   "execution_count": 44,
   "metadata": {},
   "outputs": [
    {
     "name": "stdout",
     "output_type": "stream",
     "text": [
      "Model: \"LeNet\"\n",
      "_________________________________________________________________\n",
      "Layer (type)                 Output Shape              Param #   \n",
      "=================================================================\n",
      "input_1 (InputLayer)         (None, 28, 28, 1)         0         \n",
      "_________________________________________________________________\n",
      "conv1 (Conv2D)               (None, 28, 28, 16)        416       \n",
      "_________________________________________________________________\n",
      "activation_1 (Activation)    (None, 28, 28, 16)        0         \n",
      "_________________________________________________________________\n",
      "maxPool1 (MaxPooling2D)      (None, 14, 14, 16)        0         \n",
      "_________________________________________________________________\n",
      "conv2 (Conv2D)               (None, 10, 10, 32)        12832     \n",
      "_________________________________________________________________\n",
      "activation_2 (Activation)    (None, 10, 10, 32)        0         \n",
      "_________________________________________________________________\n",
      "maxPool2 (MaxPooling2D)      (None, 5, 5, 32)          0         \n",
      "_________________________________________________________________\n",
      "flatten_1 (Flatten)          (None, 800)               0         \n",
      "_________________________________________________________________\n",
      "fc1 (Dense)                  (None, 200)               160200    \n",
      "_________________________________________________________________\n",
      "fc2 (Dense)                  (None, 50)                10050     \n",
      "_________________________________________________________________\n",
      "output (Dense)               (None, 10)                510       \n",
      "=================================================================\n",
      "Total params: 184,008\n",
      "Trainable params: 184,008\n",
      "Non-trainable params: 0\n",
      "_________________________________________________________________\n"
     ]
    }
   ],
   "source": [
    "LeNet.summary()"
   ]
  },
  {
   "cell_type": "markdown",
   "metadata": {},
   "source": [
    "## Write predictions into a csv file:"
   ]
  },
  {
   "cell_type": "code",
   "execution_count": 20,
   "metadata": {},
   "outputs": [],
   "source": [
    "# Load test data\n",
    "test_data = pd.read_csv(\"datasets/test.csv\").to_numpy(dtype='float32')\n",
    "if K.image_data_format() == \"channels_first\":\n",
    "    test_data = test_data.reshape(test_data.shape[0], 1, 28, 28)\n",
    "else:\n",
    "    test_data = test_data.reshape(test_data.shape[0], 28, 28, 1)"
   ]
  },
  {
   "cell_type": "code",
   "execution_count": 21,
   "metadata": {},
   "outputs": [],
   "source": [
    "# Predict\n",
    "testset_predictions = LeNet.predict(test_data)  # Note that this prediction is in one hot encoding"
   ]
  },
  {
   "cell_type": "code",
   "execution_count": 25,
   "metadata": {},
   "outputs": [
    {
     "name": "stdout",
     "output_type": "stream",
     "text": [
      "(28000, 10)\n"
     ]
    }
   ],
   "source": [
    "print(testset_predictions.shape)"
   ]
  },
  {
   "cell_type": "code",
   "execution_count": 37,
   "metadata": {},
   "outputs": [
    {
     "name": "stdout",
     "output_type": "stream",
     "text": [
      "(28000,)\n"
     ]
    }
   ],
   "source": [
    "# transform one hot encoding to class number\n",
    "class_predictions = np.argmax(testset_predictions, axis=1)\n",
    "print(class_predictions.shape)"
   ]
  },
  {
   "cell_type": "code",
   "execution_count": 39,
   "metadata": {},
   "outputs": [
    {
     "name": "stdout",
     "output_type": "stream",
     "text": [
      "predicted label = 3\n"
     ]
    },
    {
     "data": {
      "image/png": "[encoded data removed]",
      "text/plain": [
       "<Figure size 432x288 with 1 Axes>"
      ]
     },
     "metadata": {
      "needs_background": "light"
     },
     "output_type": "display_data"
    }
   ],
   "source": [
    "# Example of a prediction\n",
    "index = 4\n",
    "plt.imshow(test_data[index].reshape((28,28)))\n",
    "print(\"predicted label = \" + str(class_predictions[index]))"
   ]
  },
  {
   "cell_type": "code",
   "execution_count": 41,
   "metadata": {},
   "outputs": [
    {
     "name": "stdout",
     "output_type": "stream",
     "text": [
      "(28000, 2)\n"
     ]
    }
   ],
   "source": [
    "ImageId = np.array(range(1,28001))\n",
    "predictions_data = np.array([ImageId, class_predictions]).astype(int).T\n",
    "print(predictions_data.shape)"
   ]
  },
  {
   "cell_type": "code",
   "execution_count": 43,
   "metadata": {},
   "outputs": [],
   "source": [
    "np.savetxt(\"predictions/LeNet_predictions.csv\", predictions_data, delimiter=\",\")"
   ]
  },
  {
   "cell_type": "markdown",
   "metadata": {},
   "source": [
    "## Test with my own images:"
   ]
  },
  {
   "cell_type": "code",
   "execution_count": 45,
   "metadata": {},
   "outputs": [],
   "source": [
    "import cv2"
   ]
  },
  {
   "cell_type": "code",
   "execution_count": 46,
   "metadata": {},
   "outputs": [],
   "source": [
    "img_paths = [\n",
    "    'my_test_images/0.png',\n",
    "    'my_test_images/1_1.png',\n",
    "    'my_test_images/1_2.png',\n",
    "    'my_test_images/1_3.png',\n",
    "    'my_test_images/2_1.png',\n",
    "    'my_test_images/2_2.png',\n",
    "    'my_test_images/3_1.png',\n",
    "    'my_test_images/3_2.png',\n",
    "    'my_test_images/4_1.png',\n",
    "    'my_test_images/4_2.png',\n",
    "    'my_test_images/7_1.png',\n",
    "    'my_test_images/7_2.png',\n",
    "    'my_test_images/9.png',]\n",
    "\n",
    "my_images = []"
   ]
  },
  {
   "cell_type": "code",
   "execution_count": 48,
   "metadata": {},
   "outputs": [
    {
     "data": {
      "text/plain": [
       "array([[255, 255, 255, 255, 255, 255, 255, 255, 255, 255, 255, 255, 255,\n",
       "        255, 255, 255, 255, 255, 255, 255, 255, 255, 255, 255, 255, 255,\n",
       "        255, 255],\n",
       "       [255, 255, 255, 255, 255, 255, 255, 255, 255, 255, 255, 255, 255,\n",
       "        255, 254,  52,   2,   2, 134, 255, 255, 255, 255, 255, 255, 255,\n",
       "        255, 255],\n",
       "       [255, 255, 255, 255, 255, 255, 255, 255, 255, 255, 255, 255,  86,\n",
       "          3,   2,  75,   1,   0,   3,   4, 255, 255, 255, 255, 255, 255,\n",
       "        255, 255],\n",
       "       [255, 255, 255, 255, 255, 255, 255, 255, 255, 255, 255,   7,   3,\n",
       "        206, 255, 255, 255, 125,   0,   3, 255, 255, 255, 255, 255, 255,\n",
       "        255, 255],\n",
       "       [255, 255, 255, 255, 255, 255, 255, 255, 255, 255, 254,   3, 255,\n",
       "        255, 255, 255, 255, 255,   4, 204, 255, 255, 255, 255, 255, 255,\n",
       "        255, 255],\n",
       "       [255, 255, 255, 255, 255, 255, 255, 255, 255, 254,   2, 254, 255,\n",
       "        255, 255, 255, 255, 255, 245,   5, 255, 255, 255, 255, 255, 255,\n",
       "        255, 255],\n",
       "       [255, 255, 255, 255, 255, 255, 255, 255, 255,   4, 191, 255, 255,\n",
       "        255, 255, 255, 255, 255, 255,   3, 254, 255, 255, 255, 255, 255,\n",
       "        255, 255],\n",
       "       [255, 255, 255, 255, 255, 255, 255, 255, 166,  29, 255, 255, 255,\n",
       "        255, 255, 255, 255, 255, 255,  22, 159, 255, 255, 255, 255, 255,\n",
       "        255, 255],\n",
       "       [255, 255, 255, 255, 255, 255, 255, 255,   2, 254, 255, 255, 255,\n",
       "        255, 255, 255, 255, 255, 255, 255,   1, 255, 255, 255, 255, 255,\n",
       "        255, 255],\n",
       "       [255, 255, 255, 255, 255, 255, 255, 255,   7, 255, 255, 255, 255,\n",
       "        255, 255, 255, 255, 255, 255, 255,   2, 255, 255, 255, 255, 255,\n",
       "        255, 255],\n",
       "       [255, 255, 255, 255, 255, 255, 255,  31, 122, 255, 255, 255, 255,\n",
       "        255, 255, 255, 255, 255, 255, 255,   6, 255, 255, 255, 255, 255,\n",
       "        255, 255],\n",
       "       [255, 255, 255, 255, 255, 255, 255,   3, 254, 255, 255, 255, 255,\n",
       "        255, 255, 255, 255, 255, 255, 255,   7, 255, 255, 255, 255, 255,\n",
       "        255, 255],\n",
       "       [255, 255, 255, 255, 255, 255, 255, 155, 255, 255, 255, 255, 255,\n",
       "        255, 255, 255, 255, 255, 255, 255,   3, 255, 255, 255, 255, 255,\n",
       "        255, 255],\n",
       "       [255, 255, 255, 255, 255, 255, 255,   6, 255, 255, 255, 255, 255,\n",
       "        255, 255, 255, 255, 255, 255, 255,   4, 255, 255, 255, 255, 255,\n",
       "        255, 255],\n",
       "       [255, 255, 255, 255, 255, 255, 255,   3, 255, 255, 255, 255, 255,\n",
       "        255, 255, 255, 255, 255, 255, 255,   2, 255, 255, 255, 255, 255,\n",
       "        255, 255],\n",
       "       [255, 255, 255, 255, 255, 255, 255,   7, 255, 255, 255, 255, 255,\n",
       "        255, 255, 255, 255, 255, 255, 254,   5, 255, 255, 255, 255, 255,\n",
       "        255, 255],\n",
       "       [255, 255, 255, 255, 255, 255, 255,   4, 255, 255, 255, 255, 255,\n",
       "        255, 255, 255, 255, 255, 255,   2, 252, 255, 255, 255, 255, 255,\n",
       "        255, 255],\n",
       "       [255, 255, 255, 255, 255, 255, 255,   3, 252, 255, 255, 255, 255,\n",
       "        255, 255, 255, 255, 255, 255,   1, 255, 255, 255, 255, 255, 255,\n",
       "        255, 255],\n",
       "       [255, 255, 255, 255, 255, 255, 255,  28, 228, 255, 255, 255, 255,\n",
       "        255, 255, 255, 255, 255, 127,  57, 255, 255, 255, 255, 255, 255,\n",
       "        255, 255],\n",
       "       [255, 255, 255, 255, 255, 255, 255, 142,   7, 255, 255, 255, 255,\n",
       "        255, 255, 255, 255, 255,   7, 255, 255, 255, 255, 255, 255, 255,\n",
       "        255, 255],\n",
       "       [255, 255, 255, 255, 255, 255, 255, 255,   6, 255, 255, 255, 255,\n",
       "        255, 255, 255, 255, 131,  77, 255, 255, 255, 255, 255, 255, 255,\n",
       "        255, 255],\n",
       "       [255, 255, 255, 255, 255, 255, 255, 255,  17,  17, 255, 255, 255,\n",
       "        255, 255, 255, 253,   5, 255, 255, 255, 255, 255, 255, 255, 255,\n",
       "        255, 255],\n",
       "       [255, 255, 255, 255, 255, 255, 255, 255, 255,   2,   4, 255, 255,\n",
       "        255, 255, 253,   1, 253, 255, 255, 255, 255, 255, 255, 255, 255,\n",
       "        255, 255],\n",
       "       [255, 255, 255, 255, 255, 255, 255, 255, 255, 255,   4,  28, 238,\n",
       "        255, 233,   2, 205, 255, 255, 255, 255, 255, 255, 255, 255, 255,\n",
       "        255, 255],\n",
       "       [255, 255, 255, 255, 255, 255, 255, 255, 255, 255, 255,  92,   3,\n",
       "          5,  18, 255, 255, 255, 255, 255, 255, 255, 255, 255, 255, 255,\n",
       "        255, 255],\n",
       "       [255, 255, 255, 255, 255, 255, 255, 255, 255, 255, 255, 255, 255,\n",
       "        255, 255, 255, 255, 255, 255, 255, 255, 255, 255, 255, 255, 255,\n",
       "        255, 255],\n",
       "       [255, 255, 255, 255, 255, 255, 255, 255, 255, 255, 255, 255, 255,\n",
       "        255, 255, 255, 255, 255, 255, 255, 255, 255, 255, 255, 255, 255,\n",
       "        255, 255],\n",
       "       [255, 255, 255, 255, 255, 255, 255, 255, 255, 255, 255, 255, 255,\n",
       "        255, 255, 255, 255, 255, 255, 255, 255, 255, 255, 255, 255, 255,\n",
       "        255, 255]], dtype=uint8)"
      ]
     },
     "execution_count": 48,
     "metadata": {},
     "output_type": "execute_result"
    }
   ],
   "source": [
    "img0 = cv2.imread(img_paths[0], cv2.IMREAD_GRAYSCALE)\n",
    "cv2.resize(img0, (28, 28))"
   ]
  },
  {
   "cell_type": "code",
   "execution_count": 49,
   "metadata": {},
   "outputs": [
    {
     "data": {
      "text/plain": [
       "<matplotlib.image.AxesImage at 0x1b47728c108>"
      ]
     },
     "execution_count": 49,
     "metadata": {},
     "output_type": "execute_result"
    },
    {
     "data": {
      "image/png": "[encoded data removed]",
      "text/plain": [
       "<Figure size 432x288 with 1 Axes>"
      ]
     },
     "metadata": {
      "needs_background": "light"
     },
     "output_type": "display_data"
    }
   ],
   "source": [
    "plt.imshow(img0)"
   ]
  },
  {
   "cell_type": "code",
   "execution_count": 65,
   "metadata": {},
   "outputs": [],
   "source": [
    "def load_and_preprocess_my_images(img_paths):\n",
    "    \"\"\"\n",
    "    Arguments:\n",
    "        img_paths -- list of image paths\n",
    "        \n",
    "    Returns:\n",
    "    loaded_imgs -- a numpy array shape (m, 28, 28, 1)\n",
    "    \"\"\"\n",
    "    \n",
    "    loaded_imgs = []\n",
    "    \n",
    "    for (i, img_path) in enumerate(img_paths):\n",
    "        # Load\n",
    "        img = cv2.imread(img_paths[i], cv2.IMREAD_GRAYSCALE)\n",
    "        # Prepocessing\n",
    "        img = 255 - img\n",
    "        img = cv2.resize(img, (28, 28))\n",
    "        img = img.reshape((28,28,1)).astype('float32') / 255.\n",
    "        \n",
    "        loaded_imgs.append(img)\n",
    "        \n",
    "    return np.array(loaded_imgs)"
   ]
  },
  {
   "cell_type": "code",
   "execution_count": 68,
   "metadata": {},
   "outputs": [],
   "source": [
    "my_images_arr = load_and_preprocess_my_images(img_paths)\n",
    "my_prediction = LeNet.predict(my_images_arr)"
   ]
  },
  {
   "cell_type": "code",
   "execution_count": 69,
   "metadata": {},
   "outputs": [
    {
     "name": "stdout",
     "output_type": "stream",
     "text": [
      "[0 1 1 1 3 2 3 3 4 4 2 7 3]\n"
     ]
    }
   ],
   "source": [
    "print(np.argmax(my_prediction, axis=1))"
   ]
  },
  {
   "cell_type": "markdown",
   "metadata": {},
   "source": [
    "The model predicted a 2 as a 3, a 7 as a 2, and a 9 as a 3...\n",
    "So it got only 11/14 samples right :)"
   ]
  },
  {
   "cell_type": "markdown",
   "metadata": {},
   "source": [
    "## Try the original LeNet-5 architecture:"
   ]
  },
  {
   "cell_type": "code",
   "execution_count": 85,
   "metadata": {},
   "outputs": [],
   "source": [
    "from keras.regularizers import l2\n",
    "from keras.layers import Dropout\n",
    "from keras.callbacks import ReduceLROnPlateau"
   ]
  },
  {
   "cell_type": "code",
   "execution_count": 86,
   "metadata": {},
   "outputs": [],
   "source": [
    "def build_LeNet5(input_shape, output_shape, L2=None, dropout_rate=None):\n",
    "    \"\"\"\n",
    "    Implementation of the LeNet.\n",
    "    \n",
    "    Arguments:\n",
    "    input_shape -- shape of the images of the dataset\n",
    "        (height, width, channels) as a tuple.  \n",
    "        Note that this does not include the 'batch' as a dimension.\n",
    "    output_shape -- number of classes\n",
    "    L2 -- L2 regularization rate\n",
    "    dropout_rate - Dropout regularization rate\n",
    "        \n",
    "    Returns:\n",
    "    model -- a Model() instance in Keras\n",
    "    \"\"\"\n",
    "    \n",
    "    # Define the input placeholder as a tensor with shape input_shape. Think of this as your input image!\n",
    "    X_input = Input(input_shape)\n",
    "\n",
    "    # CONV1 -> RELU\n",
    "    X = Conv2D(6, kernel_size=(5, 5), strides = (1, 1), padding='same', name = 'conv1')(X_input)\n",
    "    X = Activation('relu')(X)\n",
    "\n",
    "    # MAXPOOL 1\n",
    "    X = MaxPooling2D(pool_size=(2, 2), name='maxPool1')(X)\n",
    "    if dropout_rate != None:\n",
    "        X = Dropout(dropout_rate)(X)\n",
    "    \n",
    "    # CONV2 -> RELU\n",
    "    X = Conv2D(16, kernel_size=(5, 5), strides = (1, 1), padding='valid', name = 'conv2')(X)\n",
    "    X = Activation('relu')(X)\n",
    "\n",
    "    # MAXPOOL 2\n",
    "    X = MaxPooling2D(pool_size=(2, 2), name='maxPool2')(X)\n",
    "    if dropout_rate != None:\n",
    "        X = Dropout(dropout_rate)(X)\n",
    "\n",
    "    # FLATTEN X + FULLYCONNECTED\n",
    "    X = Flatten()(X)\n",
    "        \n",
    "    if L2 == None:\n",
    "        X = Dense(120, activation='relu', name='fc1')(X)\n",
    "    else:\n",
    "        X = Dense(120, activation='relu', kernel_regularizer=l2(L2), name='fc1')(X)\n",
    "        \n",
    "    if dropout_rate != None:\n",
    "        X = Dropout(dropout_rate)(X)\n",
    "        \n",
    "    if L2 == None:\n",
    "        X = Dense(84, activation='relu', name='fc2')(X)\n",
    "    else:\n",
    "        X = Dense(84, activation='relu', kernel_regularizer=l2(L2), name='fc2')(X)\n",
    "    \n",
    "    # Softmax output\n",
    "    X = Dense(10, activation='softmax', name='output')(X)\n",
    "\n",
    "    # Create model. This creates your Keras model instance, you'll use this instance to train/test the model.\n",
    "    model = Model(inputs = X_input, outputs = X)\n",
    "    \n",
    "    return model"
   ]
  },
  {
   "cell_type": "markdown",
   "metadata": {},
   "source": [
    "#### Try with no L2 & Dropout"
   ]
  },
  {
   "cell_type": "code",
   "execution_count": 74,
   "metadata": {},
   "outputs": [],
   "source": [
    "LeNet5_ver1 = build_LeNet5(input_shape=X_train[0].shape, output_shape=10)\n",
    "LeNet5_ver1.compile(optimizer = \"adam\", loss = \"categorical_crossentropy\", metrics = [\"accuracy\"])"
   ]
  },
  {
   "cell_type": "code",
   "execution_count": 75,
   "metadata": {},
   "outputs": [
    {
     "name": "stdout",
     "output_type": "stream",
     "text": [
      "Train on 33600 samples, validate on 8400 samples\n",
      "Epoch 1/10\n",
      "33600/33600 [==============================] - 14s 421us/step - loss: 0.4125 - accuracy: 0.8768 - val_loss: 0.1483 - val_accuracy: 0.9554\n",
      "Epoch 2/10\n",
      "33600/33600 [==============================] - 14s 407us/step - loss: 0.1109 - accuracy: 0.9655 - val_loss: 0.1032 - val_accuracy: 0.9651\n",
      "Epoch 3/10\n",
      "33600/33600 [==============================] - 14s 407us/step - loss: 0.0799 - accuracy: 0.9745 - val_loss: 0.0755 - val_accuracy: 0.9755\n",
      "Epoch 4/10\n",
      "33600/33600 [==============================] - 13s 397us/step - loss: 0.0639 - accuracy: 0.9799 - val_loss: 0.0786 - val_accuracy: 0.9744\n",
      "Epoch 5/10\n",
      "33600/33600 [==============================] - 13s 398us/step - loss: 0.0517 - accuracy: 0.9839 - val_loss: 0.0533 - val_accuracy: 0.9844\n",
      "Epoch 6/10\n",
      "33600/33600 [==============================] - 13s 398us/step - loss: 0.0430 - accuracy: 0.9863 - val_loss: 0.0588 - val_accuracy: 0.9817\n",
      "Epoch 7/10\n",
      "33600/33600 [==============================] - 13s 400us/step - loss: 0.0368 - accuracy: 0.9879 - val_loss: 0.0704 - val_accuracy: 0.9776\n",
      "Epoch 8/10\n",
      "33600/33600 [==============================] - 13s 398us/step - loss: 0.0310 - accuracy: 0.9903 - val_loss: 0.0471 - val_accuracy: 0.9858\n",
      "Epoch 9/10\n",
      "33600/33600 [==============================] - 14s 404us/step - loss: 0.0273 - accuracy: 0.9908 - val_loss: 0.0484 - val_accuracy: 0.9856\n",
      "Epoch 10/10\n",
      "33600/33600 [==============================] - 13s 401us/step - loss: 0.0250 - accuracy: 0.9916 - val_loss: 0.0497 - val_accuracy: 0.9846\n"
     ]
    }
   ],
   "source": [
    "History_LeNet5_ver1 = LeNet5_ver1.fit(x = X_train, y = Y_train, validation_data=(X_dev, Y_dev), epochs = 10, batch_size = 128)"
   ]
  },
  {
   "cell_type": "code",
   "execution_count": 78,
   "metadata": {},
   "outputs": [
    {
     "data": {
      "image/png": "[encoded data removed]",
      "text/plain": [
       "<Figure size 432x288 with 1 Axes>"
      ]
     },
     "metadata": {},
     "output_type": "display_data"
    }
   ],
   "source": [
    "# plot the training loss and accuracy\n",
    "plt.style.use(\"ggplot\")\n",
    "plt.figure()\n",
    "plt.plot(np.arange(0, 10), History_LeNet5_ver1.history[\"loss\"], label=\"train_loss\")\n",
    "plt.plot(np.arange(0, 10), History_LeNet5_ver1.history[\"val_loss\"], label=\"val_loss\")\n",
    "plt.plot(np.arange(0, 10), History_LeNet5_ver1.history[\"accuracy\"], label=\"train_acc\")\n",
    "plt.plot(np.arange(0, 10), History_LeNet5_ver1.history[\"val_accuracy\"], label=\"val_acc\")\n",
    "plt.title(\"Training Loss and Accuracy\")\n",
    "plt.xlabel(\"Epoch #\")\n",
    "plt.ylabel(\"Loss/Accuracy\")\n",
    "plt.legend()\n",
    "plt.show()"
   ]
  },
  {
   "cell_type": "markdown",
   "metadata": {},
   "source": [
    "#### Try with L2 regularization"
   ]
  },
  {
   "cell_type": "code",
   "execution_count": 81,
   "metadata": {},
   "outputs": [],
   "source": [
    "LeNet5_ver2 = build_LeNet5(input_shape=X_train[0].shape, output_shape=10, L2=0.01)\n",
    "LeNet5_ver2.compile(optimizer = \"adam\", loss = \"categorical_crossentropy\", metrics = [\"accuracy\"])"
   ]
  },
  {
   "cell_type": "code",
   "execution_count": 82,
   "metadata": {},
   "outputs": [
    {
     "name": "stdout",
     "output_type": "stream",
     "text": [
      "Train on 33600 samples, validate on 8400 samples\n",
      "Epoch 1/10\n",
      "33600/33600 [==============================] - 14s 406us/step - loss: 1.3958 - accuracy: 0.8521 - val_loss: 0.6020 - val_accuracy: 0.9445\n",
      "Epoch 2/10\n",
      "33600/33600 [==============================] - 13s 401us/step - loss: 0.4370 - accuracy: 0.9597 - val_loss: 0.3348 - val_accuracy: 0.9626\n",
      "Epoch 3/10\n",
      "33600/33600 [==============================] - 13s 398us/step - loss: 0.2884 - accuracy: 0.9663 - val_loss: 0.2387 - val_accuracy: 0.9714\n",
      "Epoch 4/10\n",
      "33600/33600 [==============================] - 15s 440us/step - loss: 0.2212 - accuracy: 0.9714 - val_loss: 0.2107 - val_accuracy: 0.9681\n",
      "Epoch 5/10\n",
      "33600/33600 [==============================] - 13s 397us/step - loss: 0.1906 - accuracy: 0.9721 - val_loss: 0.1812 - val_accuracy: 0.9723\n",
      "Epoch 6/10\n",
      "33600/33600 [==============================] - 14s 416us/step - loss: 0.1668 - accuracy: 0.9754 - val_loss: 0.1677 - val_accuracy: 0.9702\n",
      "Epoch 7/10\n",
      "33600/33600 [==============================] - 13s 399us/step - loss: 0.1526 - accuracy: 0.9756 - val_loss: 0.1402 - val_accuracy: 0.9790\n",
      "Epoch 8/10\n",
      "33600/33600 [==============================] - 13s 398us/step - loss: 0.1428 - accuracy: 0.9776 - val_loss: 0.1379 - val_accuracy: 0.9788\n",
      "Epoch 9/10\n",
      "33600/33600 [==============================] - 14s 413us/step - loss: 0.1346 - accuracy: 0.9787 - val_loss: 0.1318 - val_accuracy: 0.9781\n",
      "Epoch 10/10\n",
      "33600/33600 [==============================] - 14s 403us/step - loss: 0.1272 - accuracy: 0.9795 - val_loss: 0.1274 - val_accuracy: 0.9808\n"
     ]
    }
   ],
   "source": [
    "History_LeNet5_ver2 = LeNet5_ver2.fit(x = X_train, y = Y_train, validation_data=(X_dev, Y_dev), epochs = 10, batch_size = 128)"
   ]
  },
  {
   "cell_type": "markdown",
   "metadata": {},
   "source": [
    "#### Try smaller L2 rate:"
   ]
  },
  {
   "cell_type": "code",
   "execution_count": 83,
   "metadata": {},
   "outputs": [
    {
     "name": "stdout",
     "output_type": "stream",
     "text": [
      "Train on 33600 samples, validate on 8400 samples\n",
      "Epoch 1/10\n",
      "33600/33600 [==============================] - 14s 411us/step - loss: 0.6437 - accuracy: 0.8668 - val_loss: 0.3384 - val_accuracy: 0.9418\n",
      "Epoch 2/10\n",
      "33600/33600 [==============================] - 13s 398us/step - loss: 0.2670 - accuracy: 0.9620 - val_loss: 0.2398 - val_accuracy: 0.9675\n",
      "Epoch 3/10\n",
      "33600/33600 [==============================] - 13s 400us/step - loss: 0.2058 - accuracy: 0.9740 - val_loss: 0.2172 - val_accuracy: 0.9675\n",
      "Epoch 4/10\n",
      "33600/33600 [==============================] - 14s 425us/step - loss: 0.1719 - accuracy: 0.9797 - val_loss: 0.1666 - val_accuracy: 0.9789\n",
      "Epoch 5/10\n",
      "33600/33600 [==============================] - 14s 410us/step - loss: 0.1470 - accuracy: 0.9819 - val_loss: 0.1528 - val_accuracy: 0.9779\n",
      "Epoch 6/10\n",
      "33600/33600 [==============================] - 14s 423us/step - loss: 0.1279 - accuracy: 0.9837 - val_loss: 0.1376 - val_accuracy: 0.9776\n",
      "Epoch 7/10\n",
      "33600/33600 [==============================] - 13s 400us/step - loss: 0.1157 - accuracy: 0.9851 - val_loss: 0.1324 - val_accuracy: 0.9799\n",
      "Epoch 8/10\n",
      "33600/33600 [==============================] - 14s 408us/step - loss: 0.1034 - accuracy: 0.9874 - val_loss: 0.1167 - val_accuracy: 0.9813\n",
      "Epoch 9/10\n",
      "33600/33600 [==============================] - 14s 409us/step - loss: 0.0964 - accuracy: 0.9876 - val_loss: 0.1058 - val_accuracy: 0.9845\n",
      "Epoch 10/10\n",
      "33600/33600 [==============================] - 14s 407us/step - loss: 0.0889 - accuracy: 0.9882 - val_loss: 0.1022 - val_accuracy: 0.9836\n"
     ]
    }
   ],
   "source": [
    "LeNet5_ver3 = build_LeNet5(input_shape=X_train[0].shape, output_shape=10, L2=0.001)\n",
    "LeNet5_ver3.compile(optimizer = \"adam\", loss = \"categorical_crossentropy\", metrics = [\"accuracy\"])\n",
    "History_LeNet5_ver3 = LeNet5_ver3.fit(x = X_train, y = Y_train, validation_data=(X_dev, Y_dev), epochs = 10, batch_size = 128)"
   ]
  },
  {
   "cell_type": "markdown",
   "metadata": {},
   "source": [
    "L2 doesn't seem to work so well"
   ]
  },
  {
   "cell_type": "markdown",
   "metadata": {},
   "source": [
    "### Try Dropout regularization and learning rate decay:"
   ]
  },
  {
   "cell_type": "code",
   "execution_count": 93,
   "metadata": {},
   "outputs": [],
   "source": [
    "learning_rate_decay = ReduceLROnPlateau(monitor='val_accuracy', patience=2, verbose=1, factor=0.5, min_lr=0.00001)"
   ]
  },
  {
   "cell_type": "code",
   "execution_count": 95,
   "metadata": {},
   "outputs": [],
   "source": [
    "LeNet5_ver4 = build_LeNet5(input_shape=X_train[0].shape, output_shape=10, dropout_rate=0.2)\n",
    "LeNet5_ver4.compile(optimizer = \"adam\", loss = \"categorical_crossentropy\", metrics = [\"accuracy\"])"
   ]
  },
  {
   "cell_type": "code",
   "execution_count": 100,
   "metadata": {},
   "outputs": [
    {
     "name": "stdout",
     "output_type": "stream",
     "text": [
      "Train on 33600 samples, validate on 8400 samples\n",
      "Epoch 1/20\n",
      " - 15s - loss: 0.6219 - accuracy: 0.7961 - val_loss: 0.1620 - val_accuracy: 0.9474\n",
      "Epoch 2/20\n",
      " - 15s - loss: 0.1973 - accuracy: 0.9368 - val_loss: 0.1022 - val_accuracy: 0.9683\n",
      "Epoch 3/20\n",
      " - 14s - loss: 0.1449 - accuracy: 0.9544 - val_loss: 0.0732 - val_accuracy: 0.9765\n",
      "Epoch 4/20\n",
      " - 14s - loss: 0.1152 - accuracy: 0.9625 - val_loss: 0.0625 - val_accuracy: 0.9798\n",
      "Epoch 5/20\n",
      " - 14s - loss: 0.1065 - accuracy: 0.9655 - val_loss: 0.0570 - val_accuracy: 0.9832\n",
      "Epoch 6/20\n",
      " - 14s - loss: 0.0930 - accuracy: 0.9714 - val_loss: 0.0599 - val_accuracy: 0.9824\n",
      "Epoch 7/20\n",
      " - 14s - loss: 0.0864 - accuracy: 0.9721 - val_loss: 0.0519 - val_accuracy: 0.9854\n",
      "Epoch 8/20\n",
      " - 14s - loss: 0.0784 - accuracy: 0.9752 - val_loss: 0.0485 - val_accuracy: 0.9858\n",
      "Epoch 9/20\n",
      " - 14s - loss: 0.0708 - accuracy: 0.9779 - val_loss: 0.0454 - val_accuracy: 0.9852\n",
      "Epoch 10/20\n",
      " - 14s - loss: 0.0683 - accuracy: 0.9783 - val_loss: 0.0452 - val_accuracy: 0.9858\n",
      "\n",
      "Epoch 00010: ReduceLROnPlateau reducing learning rate to 0.0005000000237487257.\n",
      "Epoch 11/20\n",
      " - 14s - loss: 0.0581 - accuracy: 0.9815 - val_loss: 0.0426 - val_accuracy: 0.9870\n",
      "Epoch 12/20\n",
      " - 14s - loss: 0.0558 - accuracy: 0.9821 - val_loss: 0.0400 - val_accuracy: 0.9889\n",
      "Epoch 13/20\n",
      " - 14s - loss: 0.0520 - accuracy: 0.9829 - val_loss: 0.0388 - val_accuracy: 0.9893\n",
      "Epoch 14/20\n",
      " - 14s - loss: 0.0520 - accuracy: 0.9835 - val_loss: 0.0412 - val_accuracy: 0.9886\n",
      "Epoch 15/20\n",
      " - 14s - loss: 0.0462 - accuracy: 0.9846 - val_loss: 0.0360 - val_accuracy: 0.9893\n",
      "\n",
      "Epoch 00015: ReduceLROnPlateau reducing learning rate to 0.0002500000118743628.\n",
      "Epoch 16/20\n",
      " - 14s - loss: 0.0437 - accuracy: 0.9861 - val_loss: 0.0359 - val_accuracy: 0.9899\n",
      "Epoch 17/20\n",
      " - 14s - loss: 0.0435 - accuracy: 0.9852 - val_loss: 0.0351 - val_accuracy: 0.9901\n",
      "Epoch 18/20\n",
      " - 14s - loss: 0.0440 - accuracy: 0.9854 - val_loss: 0.0354 - val_accuracy: 0.9900\n",
      "Epoch 19/20\n",
      " - 14s - loss: 0.0411 - accuracy: 0.9867 - val_loss: 0.0355 - val_accuracy: 0.9894\n",
      "\n",
      "Epoch 00019: ReduceLROnPlateau reducing learning rate to 0.0001250000059371814.\n",
      "Epoch 20/20\n",
      " - 14s - loss: 0.0394 - accuracy: 0.9875 - val_loss: 0.0337 - val_accuracy: 0.9911\n"
     ]
    }
   ],
   "source": [
    "History_LeNet5_ver4 = LeNet5_ver4.fit(x = X_train, y = Y_train, validation_data=(X_dev, Y_dev), epochs = 20, batch_size = 128,\n",
    "                                      verbose = 2, callbacks = [learning_rate_decay])"
   ]
  },
  {
   "cell_type": "code",
   "execution_count": 101,
   "metadata": {},
   "outputs": [
    {
     "name": "stdout",
     "output_type": "stream",
     "text": [
      "Train on 33600 samples, validate on 8400 samples\n",
      "Epoch 1/10\n",
      " - 14s - loss: 0.0376 - accuracy: 0.9873 - val_loss: 0.0338 - val_accuracy: 0.9913\n",
      "Epoch 2/10\n",
      " - 14s - loss: 0.0374 - accuracy: 0.9878 - val_loss: 0.0345 - val_accuracy: 0.9906\n",
      "Epoch 3/10\n",
      " - 14s - loss: 0.0387 - accuracy: 0.9872 - val_loss: 0.0350 - val_accuracy: 0.9902\n",
      "\n",
      "Epoch 00003: ReduceLROnPlateau reducing learning rate to 6.25000029685907e-05.\n",
      "Epoch 4/10\n",
      " - 14s - loss: 0.0363 - accuracy: 0.9879 - val_loss: 0.0339 - val_accuracy: 0.9911\n",
      "Epoch 5/10\n",
      " - 14s - loss: 0.0357 - accuracy: 0.9890 - val_loss: 0.0337 - val_accuracy: 0.9910\n",
      "\n",
      "Epoch 00005: ReduceLROnPlateau reducing learning rate to 3.125000148429535e-05.\n",
      "Epoch 6/10\n",
      " - 14s - loss: 0.0361 - accuracy: 0.9874 - val_loss: 0.0337 - val_accuracy: 0.9907\n",
      "Epoch 7/10\n",
      " - 14s - loss: 0.0368 - accuracy: 0.9873 - val_loss: 0.0339 - val_accuracy: 0.9910\n",
      "\n",
      "Epoch 00007: ReduceLROnPlateau reducing learning rate to 1.5625000742147677e-05.\n",
      "Epoch 8/10\n",
      " - 14s - loss: 0.0376 - accuracy: 0.9871 - val_loss: 0.0336 - val_accuracy: 0.9908\n",
      "Epoch 9/10\n",
      " - 14s - loss: 0.0370 - accuracy: 0.9881 - val_loss: 0.0333 - val_accuracy: 0.9908\n",
      "\n",
      "Epoch 00009: ReduceLROnPlateau reducing learning rate to 1e-05.\n",
      "Epoch 10/10\n",
      " - 14s - loss: 0.0354 - accuracy: 0.9887 - val_loss: 0.0333 - val_accuracy: 0.9910\n"
     ]
    },
    {
     "data": {
      "text/plain": [
       "<keras.callbacks.callbacks.History at 0x1b402840dc8>"
      ]
     },
     "execution_count": 101,
     "metadata": {},
     "output_type": "execute_result"
    }
   ],
   "source": [
    "LeNet5_ver4.fit(x = X_train, y = Y_train, validation_data=(X_dev, Y_dev), epochs = 10, batch_size = 128,\n",
    "                                      verbose = 2, callbacks = [learning_rate_decay])"
   ]
  },
  {
   "cell_type": "code",
   "execution_count": 102,
   "metadata": {},
   "outputs": [],
   "source": [
    "# Predict\n",
    "testset_predictions_ver4 = LeNet5_ver4.predict(test_data)\n",
    "class_predictions_ver4 = np.argmax(testset_predictions_ver4, axis=1)\n",
    "# add id column\n",
    "ImageId = np.array(range(1,28001))\n",
    "predictions_data = np.array([ImageId, class_predictions_ver4]).astype(int).T\n",
    "\n",
    "# save file\n",
    "np.savetxt(\"predictions/LeNet_predictions.csv\", predictions_data, delimiter=\",\")"
   ]
  },
  {
   "cell_type": "markdown",
   "metadata": {},
   "source": [
    "I finally reach 99% accuracy"
   ]
  },
  {
   "cell_type": "code",
   "execution_count": null,
   "metadata": {},
   "outputs": [],
   "source": []
  }
 ],
 "metadata": {
  "kernelspec": {
   "display_name": "Python 3",
   "language": "python",
   "name": "python3"
  },
  "language_info": {
   "codemirror_mode": {
    "name": "ipython",
    "version": 3
   },
   "file_extension": ".py",
   "mimetype": "text/x-python",
   "name": "python",
   "nbconvert_exporter": "python",
   "pygments_lexer": "ipython3",
   "version": "3.7.6"
  }
 },
 "nbformat": 4,
 "nbformat_minor": 4
}
