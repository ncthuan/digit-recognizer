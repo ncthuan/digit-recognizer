{
 "cells": [
  {
   "cell_type": "markdown",
   "metadata": {},
   "source": [
    "##### This is my first notebook using tf.\n",
    "##### Most of the code below and the convention were borrowed from the assignments that I worked on."
   ]
  },
  {
   "cell_type": "code",
   "execution_count": 1,
   "metadata": {},
   "outputs": [
    {
     "name": "stderr",
     "output_type": "stream",
     "text": [
      "C:\\Users\\thuan\\Anaconda3\\envs\\tfe\\lib\\importlib\\_bootstrap.py:219: RuntimeWarning: numpy.ufunc size changed, may indicate binary incompatibility. Expected 192 from C header, got 216 from PyObject\n",
      "  return f(*args, **kwds)\n"
     ]
    }
   ],
   "source": [
    "import numpy as np\n",
    "import matplotlib.pyplot as plt\n",
    "import tensorflow.compat.v1 as tf\n",
    "from sklearn.model_selection import train_test_split\n",
    "tf.disable_eager_execution()\n",
    "np.random.seed(1)\n",
    "%matplotlib inline"
   ]
  },
  {
   "cell_type": "code",
   "execution_count": 2,
   "metadata": {},
   "outputs": [],
   "source": [
    "from tensorflow.python.framework import ops\n",
    "from tf_utils import random_mini_batches, convert_to_one_hot, predict"
   ]
  },
  {
   "cell_type": "markdown",
   "metadata": {},
   "source": [
    "# Functions for building and training a model:"
   ]
  },
  {
   "cell_type": "code",
   "execution_count": 3,
   "metadata": {},
   "outputs": [],
   "source": [
    "def create_placeholders(n_x, n_y):\n",
    "    \"\"\"\n",
    "    Creates the placeholders for the tensorflow session.\n",
    "    Arguments:\n",
    "        n_x -- scalar, size of an image vector (num_px * num_px = 28*28 = 784)\n",
    "        n_y -- scalar, number of classes (from 0 to 9, so -> 10)\n",
    "    \"\"\"\n",
    "\n",
    "    X = tf.placeholder(dtype=tf.float32, shape=[n_x, None])\n",
    "    Y = tf.placeholder(dtype=tf.float32, shape=[n_y, None])\n",
    "    \n",
    "    return X, Y"
   ]
  },
  {
   "cell_type": "code",
   "execution_count": 33,
   "metadata": {},
   "outputs": [],
   "source": [
    "def initialize_parameters(transfer_parameters = None):\n",
    "    \"\"\"\n",
    "    Initializes parameters to build a neural network with tensorflow\n",
    "    Or load the model that was trained\n",
    "    The shapes are:\n",
    "                        W1 : [64, 784]\n",
    "                        b1 : [64, 1]\n",
    "                        W2 : [32, 64]\n",
    "                        b2 : [32, 1]\n",
    "                        W3 : [10, 32]\n",
    "                        b3 : [10, 1]    \n",
    "    Returns:\n",
    "    parameters -- a dictionary of tensors containing W1, b1, W2, b2, W3, b3\n",
    "    \"\"\"\n",
    "    \n",
    "    if transfer_parameters == None:\n",
    "        W1 = tf.get_variable(\"W1\", [64, 784], initializer = tf.glorot_uniform_initializer())\n",
    "        b1 = tf.get_variable(\"b1\", [64, 1], initializer = tf.zeros_initializer(), )\n",
    "        W2 = tf.get_variable(\"W2\", [32, 64], initializer = tf.glorot_uniform_initializer())\n",
    "        b2 = tf.get_variable(\"b2\", [32, 1], initializer = tf.zeros_initializer())\n",
    "        W3 = tf.get_variable(\"W3\", [10, 32], initializer = tf.glorot_uniform_initializer())\n",
    "        b3 = tf.get_variable(\"b3\", [10, 1], initializer = tf.zeros_initializer())\n",
    "    else:\n",
    "        W1 = tf.Variable(transfer_parameters['W1'], name='W1')\n",
    "        b1 = tf.Variable(transfer_parameters['b1'], name='b1')\n",
    "        W2 = tf.Variable(transfer_parameters['W2'], name='W2')\n",
    "        b2 = tf.Variable(transfer_parameters['b2'], name='b2')\n",
    "        W3 = tf.Variable(transfer_parameters['W3'], name='W3')\n",
    "        b3 = tf.Variable(transfer_parameters['b3'], name='b3')\n",
    "    \n",
    "    parameters = {\"W1\": W1,\n",
    "                  \"b1\": b1,\n",
    "                  \"W2\": W2,\n",
    "                  \"b2\": b2,\n",
    "                  \"W3\": W3,\n",
    "                  \"b3\": b3}\n",
    "    \n",
    "    return parameters"
   ]
  },
  {
   "cell_type": "code",
   "execution_count": 5,
   "metadata": {},
   "outputs": [],
   "source": [
    "def forward_propagation(X, parameters):\n",
    "    \"\"\"\n",
    "    Implements the forward propagation for the model: LINEAR -> RELU -> LINEAR -> RELU -> LINEAR -> SOFTMAX\n",
    "    \n",
    "    Arguments:\n",
    "    X -- input dataset placeholder, of shape (input size, number of examples)\n",
    "    parameters -- python dictionary containing your parameters \"W1\", \"b1\", \"W2\", \"b2\", \"W3\", \"b3\"\n",
    "                  the shapes are given in initialize_parameters\n",
    "\n",
    "    Returns:\n",
    "    Z3 -- the output of the last LINEAR unit\n",
    "    \"\"\"\n",
    "    \n",
    "    # Retrieve the parameters from the dictionary \"parameters\" \n",
    "    W1 = parameters['W1']\n",
    "    b1 = parameters['b1']\n",
    "    W2 = parameters['W2']\n",
    "    b2 = parameters['b2']\n",
    "    W3 = parameters['W3']\n",
    "    b3 = parameters['b3']\n",
    "    \n",
    "    # Forward propagation\n",
    "    Z1 = tf.add(tf.matmul(W1, X), b1)                       # Z1 = np.dot(W1, X) + b1\n",
    "    A1 = tf.nn.relu(Z1)                                     # A1 = relu(Z1)\n",
    "    Z2 = tf.add(tf.matmul(W2, A1), b2)                      # Z2 = np.dot(W2, A1) + b2\n",
    "    A2 = tf.nn.relu(Z2)                                     # A2 = relu(Z2)\n",
    "    Z3 = tf.add(tf.matmul(W3, A2), b3)                      # Z3 = np.dot(W3, A2) + b3\n",
    "    \n",
    "    return Z3"
   ]
  },
  {
   "cell_type": "code",
   "execution_count": 6,
   "metadata": {},
   "outputs": [],
   "source": [
    "def compute_cost(Z3, Y):\n",
    "    \"\"\"\n",
    "    Computes the cost\n",
    "    \n",
    "    Arguments:\n",
    "    Z3 -- output of forward propagation (output of the last LINEAR unit), of shape (6, number of examples)\n",
    "    Y -- \"true\" labels vector placeholder, same shape as Z3\n",
    "    \n",
    "    Returns:\n",
    "    cost - Tensor of the cost function\n",
    "    \"\"\"\n",
    "    # to fit the tensorflow requirement for tf.nn.softmax_cross_entropy_with_logits(...,...)\n",
    "    logits = tf.transpose(Z3)\n",
    "    labels = tf.transpose(Y)\n",
    "    cost = tf.reduce_mean(tf.nn.softmax_cross_entropy_with_logits(logits=logits, labels=labels))\n",
    "    \n",
    "    return cost"
   ]
  },
  {
   "cell_type": "code",
   "execution_count": 7,
   "metadata": {},
   "outputs": [],
   "source": [
    "def nn_model(X_train, Y_train, X_dev, Y_dev, learning_rate = 0.0001,\n",
    "          num_epochs = 100, minibatch_size = 128, print_cost = True):\n",
    "    \"\"\"\n",
    "    Implements a three-layer tensorflow neural network: LINEAR->RELU->LINEAR->RELU->LINEAR->SOFTMAX.\n",
    "    \n",
    "    Arguments:\n",
    "        X_train -- training set, of shape (input size = 784, number of training examples = )\n",
    "        Y_train -- test set, of shape (output size = 10, number of training examples = )\n",
    "        X_test -- training set, of shape (input size = 784, number of training examples = )\n",
    "        Y_test -- test set, of shape (output size = 10, number of test examples = )\n",
    "        learning_rate -- learning rate of the optimization\n",
    "        num_epochs -- number of epochs of the optimization loop\n",
    "        minibatch_size -- size of a minibatch\n",
    "    \n",
    "    Returns:\n",
    "    parameters -- parameters learnt by the model. They can then be used to predict.\n",
    "    \"\"\"\n",
    "    \n",
    "    ops.reset_default_graph()                         # to be able to rerun the model without overwriting tf variables\n",
    "    tf.set_random_seed(1)                             # to keep consistent results\n",
    "    seed = 3                                          # to keep consistent results\n",
    "    (n_x, m) = X_train.shape                          # (n_x: input size, m : number of examples in the train set)\n",
    "    n_y = Y_train.shape[0]                            # n_y : output size\n",
    "    costs = []                                        # To keep track of the cost\n",
    "    \n",
    "    # Create Placeholders of shape (n_x, n_y)\n",
    "    X, Y = create_placeholders(n_x, n_y)\n",
    "\n",
    "    # Initialize parameters\n",
    "    parameters = initialize_parameters()\n",
    "    \n",
    "    # Forward propagation: Build the forward propagation in the tensorflow graph\n",
    "    Z3 = forward_propagation(X, parameters)\n",
    "    \n",
    "    # Cost function: Add cost function to tensorflow graph\n",
    "    cost = compute_cost(Z3, Y)\n",
    "    \n",
    "    # Backpropagation: Define the tensorflow optimizer, using an AdamOptimizer.\n",
    "    optimizer = tf.train.AdamOptimizer(learning_rate = learning_rate).minimize(cost)\n",
    "    \n",
    "    # Initialize all the variables\n",
    "    init = tf.global_variables_initializer()\n",
    "\n",
    "    # Start the session to compute the tensorflow graph\n",
    "    with tf.Session() as sess:\n",
    "        \n",
    "        # Run the initialization\n",
    "        sess.run(init)\n",
    "        \n",
    "        # Do the training loop\n",
    "        for epoch in range(num_epochs):\n",
    "\n",
    "            epoch_cost = 0.                       # Defines a cost related to an epoch\n",
    "            num_minibatches = int(m / minibatch_size) # number of minibatches of size minibatch_size in the train set\n",
    "            seed = seed + 1\n",
    "            minibatches = random_mini_batches(X_train, Y_train, minibatch_size, seed)\n",
    "\n",
    "            for minibatch in minibatches:\n",
    "                # Select a minibatch\n",
    "                (minibatch_X, minibatch_Y) = minibatch\n",
    "                \n",
    "                # Run the session to execute the \"optimizer\" and the \"cost\", the feedict contain a minibatch for (X,Y).\n",
    "                _ , minibatch_cost = sess.run([optimizer, cost], feed_dict={X: minibatch_X, Y: minibatch_Y})\n",
    "                \n",
    "                # Accumulate cost:\n",
    "                epoch_cost += minibatch_cost / minibatch_size\n",
    "\n",
    "            # Print the cost every epoch\n",
    "            if print_cost == True and epoch % 10 == 0:\n",
    "                print (\"Cost after epoch %i: %f\" % (epoch, epoch_cost))\n",
    "            if print_cost == True and epoch % 5 == 0:\n",
    "                costs.append(epoch_cost)\n",
    "            if epoch == 50 and epoch_cost > 1.5: return None\n",
    "                \n",
    "        # plot the cost\n",
    "        plt.plot(np.squeeze(costs))\n",
    "        plt.ylabel('cost')\n",
    "        plt.xlabel('iterations (per fives)')\n",
    "        plt.title(\"Learning rate =\" + str(learning_rate))\n",
    "        plt.show()\n",
    "\n",
    "        # lets save the parameters in a variable\n",
    "        parameters = sess.run(parameters)\n",
    "        print (\"Parameters have been trained!\")\n",
    "\n",
    "        # Calculate the correct predictions\n",
    "        correct_prediction = tf.equal(tf.argmax(Z3), tf.argmax(Y))\n",
    "\n",
    "        # Calculate accuracy on the test set\n",
    "        accuracy = tf.reduce_mean(tf.cast(correct_prediction, \"float\"))\n",
    "\n",
    "        print (\"Train Accuracy:\", accuracy.eval({X: X_train, Y: Y_train}))\n",
    "        print (\"Test Accuracy:\", accuracy.eval({X: X_dev, Y: Y_dev}))\n",
    "        \n",
    "        return parameters"
   ]
  },
  {
   "cell_type": "markdown",
   "metadata": {},
   "source": [
    "# Load data:"
   ]
  },
  {
   "cell_type": "code",
   "execution_count": 8,
   "metadata": {},
   "outputs": [
    {
     "name": "stdout",
     "output_type": "stream",
     "text": [
      "42001\n"
     ]
    }
   ],
   "source": [
    "train_data = np.genfromtxt('train.csv', delimiter=\",\")\n",
    "print(len(train_data))"
   ]
  },
  {
   "cell_type": "code",
   "execution_count": 11,
   "metadata": {},
   "outputs": [
    {
     "name": "stdout",
     "output_type": "stream",
     "text": [
      "42000\n",
      "(42000, 785)\n"
     ]
    }
   ],
   "source": [
    "# Remove the first row, which contains strings\n",
    "train_data = train_data[1:,:]\n",
    "m = len(train_data)\n",
    "print(m)\n",
    "print(train_data.shape)"
   ]
  },
  {
   "cell_type": "code",
   "execution_count": 16,
   "metadata": {},
   "outputs": [],
   "source": [
    "# Split the training data\n",
    "(X_train, X_dev, Y_train, Y_dev) = train_test_split(train_data[:,1:], train_data[:,0], test_size = 0.2)"
   ]
  },
  {
   "cell_type": "code",
   "execution_count": 18,
   "metadata": {},
   "outputs": [
    {
     "name": "stdout",
     "output_type": "stream",
     "text": [
      "(33600, 784) (33600,)\n",
      "(8400, 784) (8400,)\n"
     ]
    }
   ],
   "source": [
    "print(X_train.shape, Y_train.shape)\n",
    "print(X_dev.shape, Y_dev.shape)"
   ]
  },
  {
   "cell_type": "code",
   "execution_count": 25,
   "metadata": {},
   "outputs": [
    {
     "name": "stdout",
     "output_type": "stream",
     "text": [
      "(784, 33600) (33600,)\n",
      "(784, 8400) (8400,)\n"
     ]
    }
   ],
   "source": [
    "# Transpose the arrays according to convention in DL courses\n",
    "X_train = X_train.T\n",
    "X_dev = X_dev.T\n",
    "Y_train = Y_train.T\n",
    "Y_dev = Y_dev.T\n",
    "print(X_train.shape, Y_train.shape)\n",
    "print(X_dev.shape, Y_dev.shape)"
   ]
  },
  {
   "cell_type": "code",
   "execution_count": 24,
   "metadata": {},
   "outputs": [
    {
     "name": "stdout",
     "output_type": "stream",
     "text": [
      "[[0. 0. 0. 1. 0.]\n",
      " [0. 0. 0. 0. 0.]\n",
      " [0. 0. 0. 0. 1.]\n",
      " [1. 0. 0. 0. 0.]\n",
      " [0. 0. 0. 0. 0.]\n",
      " [0. 0. 1. 0. 0.]\n",
      " [0. 0. 0. 0. 0.]\n",
      " [0. 0. 0. 0. 0.]\n",
      " [0. 1. 0. 0. 0.]\n",
      " [0. 0. 0. 0. 0.]]\n"
     ]
    }
   ],
   "source": [
    "sample_Y = Y_train[0:5].astype(int)\n",
    "print(convert_to_one_hot(sample_Y, 10))"
   ]
  },
  {
   "cell_type": "code",
   "execution_count": 27,
   "metadata": {},
   "outputs": [],
   "source": [
    "# Convert labels to one hot format\n",
    "Y_train = convert_to_one_hot(Y_train.astype(int), 10)\n",
    "Y_dev = convert_to_one_hot(Y_dev.astype(int), 10)"
   ]
  },
  {
   "cell_type": "code",
   "execution_count": 29,
   "metadata": {},
   "outputs": [
    {
     "name": "stdout",
     "output_type": "stream",
     "text": [
      "label = [0. 0. 0. 0. 0. 0. 0. 0. 1. 0.]\n"
     ]
    },
    {
     "data": {
      "image/png": "[encoded data removed]",
      "text/plain": [
       "<Figure size 432x288 with 1 Axes>"
      ]
     },
     "metadata": {
      "needs_background": "light"
     },
     "output_type": "display_data"
    }
   ],
   "source": [
    "# Example of a picture\n",
    "index = 1\n",
    "plt.imshow(X_train[:,index].reshape((28,28)))\n",
    "print(\"label = \" + str(Y_train[:,index]))"
   ]
  },
  {
   "cell_type": "code",
   "execution_count": 30,
   "metadata": {},
   "outputs": [],
   "source": [
    "# rescale \n",
    "X_train /= 255.0\n",
    "X_dev /= 255.0"
   ]
  },
  {
   "cell_type": "markdown",
   "metadata": {},
   "source": [
    "# Train nn models:"
   ]
  },
  {
   "cell_type": "code",
   "execution_count": 31,
   "metadata": {},
   "outputs": [
    {
     "name": "stdout",
     "output_type": "stream",
     "text": [
      "WARNING:tensorflow:From C:\\Users\\thuan\\Anaconda3\\envs\\tfe\\lib\\site-packages\\tensorflow_core\\python\\ops\\resource_variable_ops.py:1635: calling BaseResourceVariable.__init__ (from tensorflow.python.ops.resource_variable_ops) with constraint is deprecated and will be removed in a future version.\n",
      "Instructions for updating:\n",
      "If using Keras pass *_constraint arguments to layers.\n",
      "WARNING:tensorflow:From <ipython-input-6-be27a55e3890>:15: softmax_cross_entropy_with_logits (from tensorflow.python.ops.nn_ops) is deprecated and will be removed in a future version.\n",
      "Instructions for updating:\n",
      "\n",
      "Future major versions of TensorFlow will allow gradients to flow\n",
      "into the labels input on backprop by default.\n",
      "\n",
      "See `tf.nn.softmax_cross_entropy_with_logits_v2`.\n",
      "\n",
      "Cost after epoch 0: 4.708371\n",
      "Cost after epoch 10: 3.132705\n",
      "Cost after epoch 20: 2.009544\n",
      "Cost after epoch 30: 1.430960\n",
      "Cost after epoch 40: 1.135808\n",
      "Cost after epoch 50: 0.966105\n",
      "Cost after epoch 60: 0.855643\n",
      "Cost after epoch 70: 0.780467\n",
      "Cost after epoch 80: 0.724523\n",
      "Cost after epoch 90: 0.681524\n"
     ]
    },
    {
     "data": {
      "image/png": "[encoded data removed]",
      "text/plain": [
       "<Figure size 432x288 with 1 Axes>"
      ]
     },
     "metadata": {
      "needs_background": "light"
     },
     "output_type": "display_data"
    },
    {
     "name": "stdout",
     "output_type": "stream",
     "text": [
      "Parameters have been trained!\n",
      "Train Accuracy: 0.91431546\n",
      "Test Accuracy: 0.90869045\n"
     ]
    }
   ],
   "source": [
    "first_nn = nn_model(X_train, Y_train, X_dev, Y_dev, learning_rate = 0.00001, \n",
    "                    num_epochs = 100, minibatch_size = 128, print_cost = True)"
   ]
  },
  {
   "cell_type": "code",
   "execution_count": 32,
   "metadata": {},
   "outputs": [
    {
     "name": "stdout",
     "output_type": "stream",
     "text": [
      "Cost after epoch 0: 3.359781\n",
      "Cost after epoch 10: 0.473635\n",
      "Cost after epoch 20: 0.346862\n",
      "Cost after epoch 30: 0.276272\n",
      "Cost after epoch 40: 0.232568\n",
      "Cost after epoch 50: 0.199129\n",
      "Cost after epoch 60: 0.172469\n",
      "Cost after epoch 70: 0.151594\n",
      "Cost after epoch 80: 0.132242\n",
      "Cost after epoch 90: 0.116169\n"
     ]
    },
    {
     "data": {
      "image/png": "[encoded data removed]",
      "text/plain": [
       "<Figure size 432x288 with 1 Axes>"
      ]
     },
     "metadata": {
      "needs_background": "light"
     },
     "output_type": "display_data"
    },
    {
     "name": "stdout",
     "output_type": "stream",
     "text": [
      "Parameters have been trained!\n",
      "Train Accuracy: 0.9886905\n",
      "Test Accuracy: 0.95607144\n"
     ]
    }
   ],
   "source": [
    "nn2 = nn_model(X_train, Y_train, X_dev, Y_dev, learning_rate = 0.0002, \n",
    "                    num_epochs = 100, minibatch_size = 128, print_cost = True)"
   ]
  },
  {
   "cell_type": "markdown",
   "metadata": {},
   "source": [
    "# Modify functions to apply L2 penalty:"
   ]
  },
  {
   "cell_type": "code",
   "execution_count": 34,
   "metadata": {},
   "outputs": [],
   "source": [
    "def compute_cost_with_regularization(Z3, Y, parameters, L2_penalty):\n",
    "    \"\"\"\n",
    "    Computes the cost\n",
    "    \n",
    "    Arguments:\n",
    "    Z3 -- output of forward propagation (output of the last LINEAR unit), of shape (6, number of examples)\n",
    "    Y -- \"true\" labels vector placeholder, same shape as Z3\n",
    "    \n",
    "    Returns:\n",
    "    cost - Tensor of the cost function\n",
    "    \"\"\"\n",
    "    \n",
    "    # to fit the tensorflow requirement for tf.nn.softmax_cross_entropy_with_logits(...,...)\n",
    "    logits = tf.transpose(Z3)\n",
    "    labels = tf.transpose(Y)\n",
    "    \n",
    "    # retrieve parameters for computing regularization cost\n",
    "    m = Y.shape[1]\n",
    "    W1 = parameters[\"W1\"]\n",
    "    W2 = parameters[\"W2\"]\n",
    "    W3 = parameters[\"W3\"]\n",
    "    \n",
    "    # compute cost with regularization cost using L2_penalty\n",
    "    cost = tf.reduce_mean(tf.nn.softmax_cross_entropy_with_logits(logits=logits, labels=labels)) \n",
    "    cost += L2_penalty*(tf.reduce_mean(W1**2) + tf.reduce_mean(W2**2) + tf.reduce_mean(W3**2))\n",
    "    \n",
    "    return cost"
   ]
  },
  {
   "cell_type": "code",
   "execution_count": 39,
   "metadata": {},
   "outputs": [],
   "source": [
    "def nn_model_regularized(X_train, Y_train, X_dev, Y_dev, learning_rate = 0.0001, L2_penalty = 0.0, \n",
    "                         num_epochs = 100, minibatch_size = 128, print_cost = True, print_interval = 20, \n",
    "                         transfer_parameters = None):\n",
    "    \"\"\"\n",
    "    Implements a three-layer tensorflow neural network: LINEAR->RELU->LINEAR->RELU->LINEAR->SOFTMAX.\n",
    "    This model now supports L2 regularization and parameters transfering\n",
    "    \n",
    "    Arguments:\n",
    "        X_train -- training set, of shape (input size = 784, number of training examples = )\n",
    "        Y_train -- test set, of shape (output size = 10, number of training examples = )\n",
    "        X_test -- training set, of shape (input size = 784, number of training examples = )\n",
    "        Y_test -- test set, of shape (output size = 10, number of test examples = )\n",
    "        learning_rate -- learning rate of the optimization\n",
    "        L2_penalty -- regularization rate\n",
    "        num_epochs -- number of epochs of the optimization loop\n",
    "        minibatch_size -- size of a minibatch\n",
    "        print_interval -- the interval(num epochs) between two output of cost\n",
    "        transfer_parameters -- the parameters of trained model\n",
    "    \n",
    "    Returns:\n",
    "    parameters -- parameters learnt by the model. They can then be used to predict.\n",
    "    \"\"\"\n",
    "    \n",
    "    ops.reset_default_graph()                         # to be able to rerun the model without overwriting tf variables\n",
    "    tf.set_random_seed(1)                             # to keep consistent results\n",
    "    seed = 3                                          # to keep consistent results\n",
    "    (n_x, m) = X_train.shape                          # (n_x: input size, m : number of examples in the train set)\n",
    "    n_y = Y_train.shape[0]                            # n_y : output size\n",
    "    costs = []                                        # To keep track of the cost\n",
    "    \n",
    "    # Create Placeholders of shape (n_x, n_y)\n",
    "    X, Y = create_placeholders(n_x, n_y)\n",
    "\n",
    "    # Initialize parameters\n",
    "    parameters = initialize_parameters(transfer_parameters)\n",
    "    \n",
    "    # Forward propagation: Build the forward propagation in the tensorflow graph\n",
    "    Z3 = forward_propagation(X, parameters)\n",
    "    \n",
    "    # Cost function: Add cost function to tensorflow graph\n",
    "    cost = compute_cost_with_regularization(Z3, Y, parameters, L2_penalty)\n",
    "    \n",
    "    # Backpropagation: Define the tensorflow optimizer. Use an AdamOptimizer.\n",
    "    optimizer = tf.train.AdamOptimizer(learning_rate = learning_rate).minimize(cost)\n",
    "    \n",
    "    # Initialize all the variables\n",
    "    init = tf.global_variables_initializer()\n",
    "\n",
    "    # Start the session to compute the tensorflow graph\n",
    "    with tf.Session() as sess:\n",
    "        sess.run(init)\n",
    "        \n",
    "        for epoch in range(num_epochs):\n",
    "\n",
    "            epoch_cost = 0.                       # Defines a cost related to an epoch\n",
    "            num_minibatches = int(m / minibatch_size) # number of minibatches of size minibatch_size in the train set\n",
    "            seed = seed + 1\n",
    "            minibatches = random_mini_batches(X_train, Y_train, minibatch_size, seed)\n",
    "\n",
    "            for minibatch in minibatches:\n",
    "                # Select a minibatch\n",
    "                (minibatch_X, minibatch_Y) = minibatch\n",
    "                \n",
    "                # Run the session to execute the \"optimizer\" and the \"cost\", the feedict contains a minibatch for (X,Y).\n",
    "                _ , minibatch_cost = sess.run([optimizer, cost], feed_dict={X: minibatch_X, Y: minibatch_Y})\n",
    "                \n",
    "                # Accumulate cost:\n",
    "                epoch_cost += minibatch_cost / minibatch_size\n",
    "\n",
    "            # Append epoch cost for ploting the learning curve\n",
    "            if print_cost == True: \n",
    "                costs.append(epoch_cost)\n",
    "                # Print the cost every certain number of epoch\n",
    "                if epoch % print_interval == 0:\n",
    "                    print (\"Cost after epoch %i: %f\" % (epoch, epoch_cost))\n",
    "                \n",
    "        # plot the cost\n",
    "        plt.plot(np.squeeze(costs))\n",
    "        plt.ylabel('cost')\n",
    "        plt.xlabel('iterations (per fives)')\n",
    "        plt.title(\"Learning rate =\" + str(learning_rate))\n",
    "        plt.show()\n",
    "\n",
    "        # lets save the parameters in a variable\n",
    "        parameters = sess.run(parameters)\n",
    "        print (\"Parameters have been trained!\")\n",
    "\n",
    "        # Calculate the correct predictions\n",
    "        correct_prediction = tf.equal(tf.argmax(Z3), tf.argmax(Y))\n",
    "\n",
    "        # Calculate accuracy on the test set\n",
    "        accuracy = tf.reduce_mean(tf.cast(correct_prediction, \"float\"))\n",
    "\n",
    "        print (\"Train Accuracy:\", accuracy.eval({X: X_train, Y: Y_train}))\n",
    "        print (\"Test Accuracy:\", accuracy.eval({X: X_dev, Y: Y_dev}))\n",
    "        \n",
    "        return parameters"
   ]
  },
  {
   "cell_type": "markdown",
   "metadata": {},
   "source": [
    "# Train NN with L2 regularization:"
   ]
  },
  {
   "cell_type": "code",
   "execution_count": 40,
   "metadata": {},
   "outputs": [
    {
     "name": "stdout",
     "output_type": "stream",
     "text": [
      "Cost after epoch 0: 2.518190\n",
      "Cost after epoch 10: 0.383205\n",
      "Cost after epoch 20: 0.272070\n",
      "Cost after epoch 30: 0.213969\n",
      "Cost after epoch 40: 0.178481\n",
      "Cost after epoch 50: 0.152943\n",
      "Cost after epoch 60: 0.134949\n",
      "Cost after epoch 70: 0.121436\n",
      "Cost after epoch 80: 0.111175\n",
      "Cost after epoch 90: 0.103503\n"
     ]
    },
    {
     "data": {
      "image/png": "[encoded data removed]",
      "text/plain": [
       "<Figure size 432x288 with 1 Axes>"
      ]
     },
     "metadata": {
      "needs_background": "light"
     },
     "output_type": "display_data"
    },
    {
     "name": "stdout",
     "output_type": "stream",
     "text": [
      "Parameters have been trained!\n",
      "Train Accuracy: 0.9988988\n",
      "Test Accuracy: 0.96630955\n"
     ]
    }
   ],
   "source": [
    "nn_reg0 = nn_model_regularized(X_train, Y_train, X_dev, Y_dev, learning_rate = 0.0002, L2_penalty = 0.3, \n",
    "                               num_epochs = 100, minibatch_size = 128, print_cost = True, print_interval = 10)"
   ]
  },
  {
   "cell_type": "code",
   "execution_count": 41,
   "metadata": {},
   "outputs": [
    {
     "name": "stdout",
     "output_type": "stream",
     "text": [
      "Cost after epoch 0: 2.628896\n",
      "Cost after epoch 10: 0.500923\n",
      "Cost after epoch 20: 0.390193\n",
      "Cost after epoch 30: 0.331445\n",
      "Cost after epoch 40: 0.294962\n",
      "Cost after epoch 50: 0.268098\n",
      "Cost after epoch 60: 0.248110\n",
      "Cost after epoch 70: 0.233418\n"
     ]
    },
    {
     "data": {
      "image/png": "[encoded data removed]",
      "text/plain": [
       "<Figure size 432x288 with 1 Axes>"
      ]
     },
     "metadata": {
      "needs_background": "light"
     },
     "output_type": "display_data"
    },
    {
     "name": "stdout",
     "output_type": "stream",
     "text": [
      "Parameters have been trained!\n",
      "Train Accuracy: 0.9927976\n",
      "Test Accuracy: 0.9664286\n"
     ]
    }
   ],
   "source": [
    "nn_reg1 = nn_model_regularized(X_train, Y_train, X_dev, Y_dev, learning_rate = 0.0002, L2_penalty = 1.0, \n",
    "                               num_epochs = 80, minibatch_size = 128, print_cost = True, print_interval = 10)"
   ]
  },
  {
   "cell_type": "code",
   "execution_count": 42,
   "metadata": {},
   "outputs": [
    {
     "name": "stdout",
     "output_type": "stream",
     "text": [
      "Cost after epoch 0: 0.219602\n",
      "Cost after epoch 10: 0.213708\n",
      "Cost after epoch 20: 0.209169\n",
      "Cost after epoch 30: 0.204759\n",
      "Cost after epoch 40: 0.201349\n",
      "Cost after epoch 50: 0.197805\n",
      "Cost after epoch 60: 0.194319\n"
     ]
    },
    {
     "data": {
      "image/png": "[encoded data removed]",
      "text/plain": [
       "<Figure size 432x288 with 1 Axes>"
      ]
     },
     "metadata": {
      "needs_background": "light"
     },
     "output_type": "display_data"
    },
    {
     "name": "stdout",
     "output_type": "stream",
     "text": [
      "Parameters have been trained!\n",
      "Train Accuracy: 0.9961905\n",
      "Test Accuracy: 0.9677381\n"
     ]
    }
   ],
   "source": [
    "# keep training on nn_reg1 for another 70 epochs\n",
    "nn_reg1 = nn_model_regularized(X_train, Y_train, X_dev, Y_dev, learning_rate = 0.0001, L2_penalty = 1.0, \n",
    "                               num_epochs = 70, minibatch_size = 128, print_cost = True, print_interval = 10,\n",
    "                               transfer_parameters = nn_reg1)"
   ]
  },
  {
   "cell_type": "code",
   "execution_count": 43,
   "metadata": {},
   "outputs": [
    {
     "name": "stdout",
     "output_type": "stream",
     "text": [
      "Cost after epoch 0: 2.931303\n",
      "Cost after epoch 10: 0.727485\n",
      "Cost after epoch 20: 0.588032\n",
      "Cost after epoch 30: 0.516415\n",
      "Cost after epoch 40: 0.474118\n",
      "Cost after epoch 50: 0.444147\n",
      "Cost after epoch 60: 0.422659\n",
      "Cost after epoch 70: 0.408266\n",
      "Cost after epoch 80: 0.396547\n",
      "Cost after epoch 90: 0.388161\n"
     ]
    },
    {
     "data": {
      "image/png": "[encoded data removed]",
      "text/plain": [
       "<Figure size 432x288 with 1 Axes>"
      ]
     },
     "metadata": {
      "needs_background": "light"
     },
     "output_type": "display_data"
    },
    {
     "name": "stdout",
     "output_type": "stream",
     "text": [
      "Parameters have been trained!\n",
      "Train Accuracy: 0.985\n",
      "Test Accuracy: 0.96630955\n"
     ]
    }
   ],
   "source": [
    "nn_reg2 = nn_model_regularized(X_train, Y_train, X_dev, Y_dev, learning_rate = 0.0002, L2_penalty = 3.0, \n",
    "                               num_epochs = 100, minibatch_size = 128, print_cost = True, print_interval = 10)"
   ]
  },
  {
   "cell_type": "markdown",
   "metadata": {},
   "source": [
    "May be this is just as far as a simple NN can go."
   ]
  },
  {
   "cell_type": "code",
   "execution_count": 44,
   "metadata": {},
   "outputs": [
    {
     "name": "stdout",
     "output_type": "stream",
     "text": [
      "{'W1': array([[-1.7850883e-31, -4.7993713e-31, -2.7039036e-31, ...,\n",
      "         2.0746142e-31, -2.0544473e-32,  2.8799414e-31],\n",
      "       [-1.5130376e-31, -1.5818803e-31, -4.9177065e-31, ...,\n",
      "        -2.4027608e-31, -2.1051580e-31, -3.5308324e-31],\n",
      "       [ 8.0437186e-32, -3.3198288e-31, -2.2435854e-31, ...,\n",
      "        -1.0954500e-31,  2.3836569e-31, -2.2695627e-31],\n",
      "       ...,\n",
      "       [-2.7450708e-31,  8.9175300e-32,  1.7476554e-31, ...,\n",
      "        -4.7260078e-31, -3.8302301e-31, -2.8528594e-31],\n",
      "       [ 2.0087738e-31, -3.8066382e-31, -1.3580443e-31, ...,\n",
      "         1.3059635e-32, -3.9650440e-31, -3.1731677e-32],\n",
      "       [ 2.3258049e-31, -2.8789251e-31,  1.7220500e-31, ...,\n",
      "        -4.5719060e-32,  4.8164038e-31,  7.9623197e-32]], dtype=float32), 'b1': array([[-0.08944218],\n",
      "       [ 0.17011479],\n",
      "       [ 0.13607296],\n",
      "       [-0.11144605],\n",
      "       [-0.2880621 ],\n",
      "       [-0.02613726],\n",
      "       [ 0.10960295],\n",
      "       [ 0.04183224],\n",
      "       [ 0.46743694],\n",
      "       [ 0.43575475],\n",
      "       [ 0.09239569],\n",
      "       [-0.1347029 ],\n",
      "       [ 0.29088986],\n",
      "       [-0.02708439],\n",
      "       [ 0.01735831],\n",
      "       [ 0.23040824],\n",
      "       [-0.0243242 ],\n",
      "       [ 0.20009767],\n",
      "       [-0.01961951],\n",
      "       [ 0.17519076],\n",
      "       [ 0.25044212],\n",
      "       [ 0.04389495],\n",
      "       [-0.07683327],\n",
      "       [-0.15483955],\n",
      "       [ 0.13793439],\n",
      "       [-0.04792547],\n",
      "       [ 0.09892026],\n",
      "       [ 0.02611204],\n",
      "       [ 0.19018792],\n",
      "       [ 0.16125219],\n",
      "       [ 0.24934271],\n",
      "       [ 0.14193538],\n",
      "       [-0.08772574],\n",
      "       [-0.18431865],\n",
      "       [ 0.00136244],\n",
      "       [ 0.13483565],\n",
      "       [ 0.09532845],\n",
      "       [ 0.03865689],\n",
      "       [ 0.13782047],\n",
      "       [ 0.0332875 ],\n",
      "       [ 0.00617053],\n",
      "       [ 0.07601366],\n",
      "       [ 0.00139274],\n",
      "       [ 0.17397286],\n",
      "       [ 0.04108406],\n",
      "       [ 0.19821636],\n",
      "       [ 0.10919733],\n",
      "       [-0.01778756],\n",
      "       [-0.05995644],\n",
      "       [ 0.24600448],\n",
      "       [ 0.13234116],\n",
      "       [-0.03393707],\n",
      "       [ 0.00521608],\n",
      "       [ 0.18727772],\n",
      "       [ 0.12373971],\n",
      "       [ 0.1557842 ],\n",
      "       [ 0.04572165],\n",
      "       [ 0.18675382],\n",
      "       [ 0.02974019],\n",
      "       [ 0.00334146],\n",
      "       [ 0.19278185],\n",
      "       [-0.06808097],\n",
      "       [-0.09253138],\n",
      "       [ 0.13324523]], dtype=float32), 'W2': array([[-3.0860738e-33,  1.4881063e-32, -1.2178548e-32, ...,\n",
      "         1.9410236e-32,  1.4699538e-32,  1.4128848e-32],\n",
      "       [-2.3828113e-02,  5.0230209e-02,  9.1631167e-02, ...,\n",
      "        -1.2860093e-01, -1.0966204e-02, -4.4247448e-02],\n",
      "       [ 1.4681569e-01, -8.9918956e-02, -9.8366491e-02, ...,\n",
      "         5.9541382e-02,  1.8866978e-03, -6.7696899e-02],\n",
      "       ...,\n",
      "       [ 4.7894272e-01,  4.5073565e-02, -1.9592772e-01, ...,\n",
      "        -5.0465927e-02,  2.0416228e-02, -1.4472581e-02],\n",
      "       [ 2.3097914e-01,  8.4911987e-02,  1.4183517e-01, ...,\n",
      "         2.1923784e-02, -6.7137077e-02,  1.4868662e-01],\n",
      "       [ 4.5546191e-03, -8.5197940e-02, -1.5042150e-01, ...,\n",
      "        -5.1592462e-02, -1.8787397e-02,  7.0539847e-02]], dtype=float32), 'b2': array([[-0.0021716 ],\n",
      "       [ 0.26920527],\n",
      "       [ 0.17270482],\n",
      "       [ 0.15957715],\n",
      "       [-0.04855105],\n",
      "       [ 0.01474143],\n",
      "       [ 0.04356395],\n",
      "       [-0.03531104],\n",
      "       [-0.03910974],\n",
      "       [-0.00377791],\n",
      "       [-0.1151359 ],\n",
      "       [ 0.0678035 ],\n",
      "       [ 0.22289513],\n",
      "       [ 0.19874209],\n",
      "       [ 0.24724671],\n",
      "       [-0.01461237],\n",
      "       [-0.02655933],\n",
      "       [-0.00706746],\n",
      "       [-0.12433723],\n",
      "       [-0.02697104],\n",
      "       [ 0.07919171],\n",
      "       [ 0.16425127],\n",
      "       [ 0.16747043],\n",
      "       [ 0.20199305],\n",
      "       [ 0.08857729],\n",
      "       [ 0.2754821 ],\n",
      "       [ 0.12007885],\n",
      "       [-0.00652219],\n",
      "       [ 0.31372932],\n",
      "       [ 0.18379176],\n",
      "       [ 0.23792647],\n",
      "       [ 0.01753767]], dtype=float32), 'W3': array([[ 1.41449182e-33, -1.70781702e-01,  1.66643098e-01,\n",
      "        -1.80574078e-02, -4.52241004e-02,  1.54007703e-01,\n",
      "        -1.17674738e-01, -1.88592058e-02,  4.53796610e-02,\n",
      "         7.18467795e-34, -4.90187295e-03,  1.16421521e-01,\n",
      "        -6.26258999e-02, -1.25552535e-01,  1.16486140e-01,\n",
      "         3.12288292e-02, -3.61874998e-02,  1.96751857e-33,\n",
      "         1.15644574e-01, -3.12528573e-02,  4.81980629e-02,\n",
      "         1.86024815e-01,  4.50794101e-02, -7.85841495e-02,\n",
      "         1.06459901e-01, -6.17630780e-02, -6.74862694e-03,\n",
      "         9.35141277e-03, -3.18445973e-02, -1.81519896e-01,\n",
      "        -1.17323503e-01, -9.15455520e-02],\n",
      "       [-1.69922888e-33,  1.15310162e-01,  3.73767205e-02,\n",
      "         2.81561911e-01, -7.55615309e-02,  3.28808650e-02,\n",
      "         3.07027679e-02,  4.08849632e-03, -9.70183313e-02,\n",
      "        -2.60201534e-33, -7.25925341e-02, -6.25366271e-02,\n",
      "        -7.76224509e-02,  3.93501632e-02, -1.78026538e-02,\n",
      "         5.29088592e-03,  1.05332986e-01,  1.21266238e-33,\n",
      "        -1.35313064e-01, -7.81645998e-02,  1.90953955e-01,\n",
      "        -6.22771755e-02, -1.69660777e-01, -1.16575040e-01,\n",
      "        -4.93971519e-02, -6.12054318e-02,  2.34669328e-01,\n",
      "         7.81522319e-02, -1.95313953e-02, -1.40162244e-01,\n",
      "        -3.94531759e-03, -1.43475085e-02],\n",
      "       [ 4.81771860e-34,  1.48390710e-01, -1.46249115e-01,\n",
      "         1.43611595e-01, -7.92170465e-02,  1.54770374e-01,\n",
      "         7.83274546e-02, -9.92507488e-02, -2.64889244e-02,\n",
      "         6.29771144e-34,  2.33716190e-01, -9.49762575e-03,\n",
      "         4.30677943e-02, -2.09027212e-02, -5.00595234e-02,\n",
      "         1.31221274e-02, -1.10529892e-01,  4.17281898e-35,\n",
      "         3.85075122e-01, -1.15314536e-02, -3.64893931e-03,\n",
      "        -1.60092413e-01,  1.33986294e-01, -1.60292268e-01,\n",
      "        -1.49401858e-01, -3.43891187e-03, -9.53558832e-02,\n",
      "         7.76514187e-02, -1.37356333e-02, -7.77987316e-02,\n",
      "        -8.29787254e-02, -1.21568233e-01],\n",
      "       [ 4.24061607e-34,  3.00618075e-02, -1.66699097e-01,\n",
      "        -1.33896247e-02,  1.34515986e-01, -4.90319431e-02,\n",
      "        -6.09509647e-02,  1.92522779e-01,  1.37591556e-01,\n",
      "        -2.44271620e-33,  6.83277771e-02, -1.94688872e-01,\n",
      "         9.86353531e-02,  8.11639279e-02, -8.84721875e-02,\n",
      "        -8.15244094e-02, -8.02240595e-02, -1.63740192e-33,\n",
      "         2.20735326e-01, -2.36946885e-02,  1.40942976e-01,\n",
      "        -1.37309656e-01, -1.73372433e-01,  5.22468388e-02,\n",
      "         2.58016855e-01, -7.23764598e-02, -1.67927340e-01,\n",
      "        -3.66244689e-02, -2.32926235e-02,  9.90734547e-02,\n",
      "        -1.91787444e-02,  2.84222513e-01],\n",
      "       [-1.56273801e-33,  6.98651001e-02, -1.77939236e-01,\n",
      "        -5.21504581e-02, -8.97123292e-02,  1.24397792e-01,\n",
      "         1.01069488e-01, -7.28518888e-03, -9.64167863e-02,\n",
      "        -3.18226341e-34, -5.14976867e-02,  2.37913236e-01,\n",
      "        -3.75992199e-03, -4.55889776e-02, -8.93539842e-03,\n",
      "         1.69741035e-01,  2.69290239e-01, -1.20098118e-33,\n",
      "        -1.52506679e-01,  1.34171680e-01, -5.47190234e-02,\n",
      "        -4.64731455e-03,  4.45687845e-02, -4.60508130e-02,\n",
      "        -1.16730936e-01,  3.11183274e-01, -4.97602001e-02,\n",
      "        -1.05919935e-01,  1.46235805e-03, -2.44998038e-01,\n",
      "         1.09077375e-02, -3.92924286e-02],\n",
      "       [ 1.79349030e-33,  9.29478630e-02,  1.09525323e-01,\n",
      "        -6.99028969e-02, -1.14303298e-01, -1.37901768e-01,\n",
      "        -2.66928449e-02, -7.89781213e-02, -1.36019573e-01,\n",
      "         1.10917213e-33, -9.43229049e-02, -1.38905004e-01,\n",
      "         3.06683421e-01,  7.47372955e-02,  1.52412876e-01,\n",
      "        -8.21520388e-02, -2.62479395e-01, -1.55369441e-33,\n",
      "        -1.58475563e-01, -1.02086298e-01, -6.78116307e-02,\n",
      "         1.33913219e-01,  5.23013994e-03,  2.05049887e-01,\n",
      "         1.81237772e-01,  4.49193865e-02, -9.06813741e-02,\n",
      "        -1.33588284e-01,  1.12261616e-01,  2.96561182e-01,\n",
      "         1.26831487e-01,  2.88346224e-02],\n",
      "       [ 9.86370167e-34,  1.29980156e-02, -8.65261722e-03,\n",
      "        -1.22942984e-01, -7.03735650e-02,  1.58219829e-01,\n",
      "         8.61017108e-02, -6.12743683e-02,  5.65112755e-02,\n",
      "        -5.67125698e-34, -1.09712273e-01, -4.83575352e-02,\n",
      "        -9.46106613e-02,  1.76105842e-01, -3.15428525e-02,\n",
      "         2.12523356e-01, -1.41120898e-02, -7.10810460e-34,\n",
      "        -2.44401634e-01, -1.25389740e-01, -1.18671887e-01,\n",
      "         1.22161739e-01,  1.23642586e-01, -1.63203865e-01,\n",
      "         7.88254812e-02, -1.03598140e-01,  1.61808789e-01,\n",
      "         2.04413794e-02,  1.00087347e-02,  7.10570365e-02,\n",
      "        -5.10988012e-03, -1.13242000e-01],\n",
      "       [-2.89302641e-33, -1.30925745e-01, -1.81856211e-02,\n",
      "         1.38258383e-01,  1.16039239e-01, -8.81473720e-02,\n",
      "        -1.76522415e-02, -3.91200446e-02, -1.64131701e-01,\n",
      "        -1.12877506e-33,  1.08958729e-01,  1.83604866e-01,\n",
      "        -1.45805165e-01, -1.25230998e-01,  4.47312482e-02,\n",
      "        -6.05348200e-02,  3.53971422e-02,  1.74325647e-33,\n",
      "         1.13788433e-01,  1.69170499e-01,  1.08638816e-01,\n",
      "        -1.75849259e-01, -6.93387538e-02, -7.65271112e-02,\n",
      "        -2.27518729e-03, -1.13646023e-01,  1.32033765e-01,\n",
      "        -2.28708401e-01, -2.42691184e-03,  1.36615202e-01,\n",
      "         2.76325047e-01, -8.16608220e-02],\n",
      "       [ 2.86441548e-34, -5.81056252e-02,  1.77323401e-01,\n",
      "        -1.76191196e-01,  4.72000614e-02, -1.33047760e-01,\n",
      "         2.30503231e-01, -6.61077769e-03,  8.95569995e-02,\n",
      "        -6.12981182e-34,  1.43947542e-01, -1.68689042e-01,\n",
      "         6.70899078e-02, -1.30566120e-01, -1.41197428e-01,\n",
      "         9.59448610e-03,  4.20758426e-02,  6.39675970e-34,\n",
      "        -1.01403512e-01,  1.11205176e-01, -1.56628400e-01,\n",
      "         1.04666941e-01,  3.84685062e-02,  1.48876548e-01,\n",
      "        -2.10287139e-01, -7.51831234e-02,  4.93246131e-02,\n",
      "         2.37906784e-01, -2.46508215e-02,  1.21615849e-01,\n",
      "        -2.29834422e-01,  9.57634747e-02],\n",
      "       [-1.50890542e-33, -9.00233313e-02,  7.49255419e-02,\n",
      "        -1.18400641e-01,  1.99873313e-01, -1.91294938e-01,\n",
      "        -2.72839695e-01,  1.11832738e-01,  1.95727125e-01,\n",
      "        -2.36658751e-33, -2.04606235e-01,  1.34118408e-01,\n",
      "        -1.38560861e-01,  8.09748322e-02,  3.70443240e-02,\n",
      "        -1.96189120e-01,  5.23307845e-02,  1.26576019e-33,\n",
      "        -8.74733925e-02, -2.56795045e-02, -7.49273896e-02,\n",
      "         2.86343903e-03,  1.46254003e-01,  2.75969833e-01,\n",
      "        -6.84305876e-02,  1.27612606e-01, -1.59102425e-01,\n",
      "         1.19000070e-01, -6.91501983e-03, -8.09351653e-02,\n",
      "         5.80462888e-02,  6.43811151e-02]], dtype=float32), 'b3': array([[-0.2089349 ],\n",
      "       [ 0.16485341],\n",
      "       [-0.00229992],\n",
      "       [-0.10295496],\n",
      "       [-0.06888561],\n",
      "       [ 0.28822416],\n",
      "       [-0.03564902],\n",
      "       [ 0.00513169],\n",
      "       [-0.1094007 ],\n",
      "       [ 0.0238749 ]], dtype=float32)}\n"
     ]
    }
   ],
   "source": [
    "print(nn_reg2)"
   ]
  },
  {
   "cell_type": "markdown",
   "metadata": {},
   "source": [
    "# Predictions on the test set:"
   ]
  },
  {
   "cell_type": "code",
   "execution_count": 49,
   "metadata": {},
   "outputs": [],
   "source": [
    "def predict(X, parameters):\n",
    "    \n",
    "    W1 = tf.convert_to_tensor(parameters[\"W1\"])\n",
    "    b1 = tf.convert_to_tensor(parameters[\"b1\"])\n",
    "    W2 = tf.convert_to_tensor(parameters[\"W2\"])\n",
    "    b2 = tf.convert_to_tensor(parameters[\"b2\"])\n",
    "    W3 = tf.convert_to_tensor(parameters[\"W3\"])\n",
    "    b3 = tf.convert_to_tensor(parameters[\"b3\"])\n",
    "    \n",
    "    params = {\"W1\": W1,\n",
    "              \"b1\": b1,\n",
    "              \"W2\": W2,\n",
    "              \"b2\": b2,\n",
    "              \"W3\": W3,\n",
    "              \"b3\": b3}\n",
    "    \n",
    "    x = tf.placeholder(\"float\", X.shape)\n",
    "    \n",
    "    z3 = forward_propagation(x, params)\n",
    "    p = tf.argmax(z3)\n",
    "    \n",
    "    sess = tf.Session()\n",
    "    prediction = sess.run(p, feed_dict = {x: X})\n",
    "        \n",
    "    return prediction"
   ]
  },
  {
   "cell_type": "markdown",
   "metadata": {},
   "source": [
    "### Load test set:"
   ]
  },
  {
   "cell_type": "code",
   "execution_count": 46,
   "metadata": {},
   "outputs": [],
   "source": [
    "test_data = np.genfromtxt('test.csv', delimiter=\",\")"
   ]
  },
  {
   "cell_type": "code",
   "execution_count": 47,
   "metadata": {},
   "outputs": [
    {
     "name": "stdout",
     "output_type": "stream",
     "text": [
      "(784, 28000)\n"
     ]
    }
   ],
   "source": [
    "test_data = test_data[1:,:].T\n",
    "print(test_data.shape)"
   ]
  },
  {
   "cell_type": "code",
   "execution_count": 50,
   "metadata": {},
   "outputs": [
    {
     "name": "stdout",
     "output_type": "stream",
     "text": [
      "(28000,)\n"
     ]
    }
   ],
   "source": [
    "predictions = predict(test_data, nn_reg2)\n",
    "print(predictions.shape)"
   ]
  },
  {
   "cell_type": "code",
   "execution_count": 52,
   "metadata": {},
   "outputs": [
    {
     "name": "stdout",
     "output_type": "stream",
     "text": [
      "predicted label = 3\n"
     ]
    },
    {
     "data": {
      "image/png": "[encoded data removed]",
      "text/plain": [
       "<Figure size 432x288 with 1 Axes>"
      ]
     },
     "metadata": {
      "needs_background": "light"
     },
     "output_type": "display_data"
    }
   ],
   "source": [
    "# Example of a prediction\n",
    "index = 4\n",
    "plt.imshow(test_data[:,index].reshape((28,28)))\n",
    "print(\"predicted label = \" + str(predictions[index]))"
   ]
  },
  {
   "cell_type": "markdown",
   "metadata": {},
   "source": [
    "### Write predictions into a file:"
   ]
  },
  {
   "cell_type": "code",
   "execution_count": 53,
   "metadata": {},
   "outputs": [],
   "source": [
    "ImageId = np.array(range(1,28001))"
   ]
  },
  {
   "cell_type": "code",
   "execution_count": 54,
   "metadata": {},
   "outputs": [
    {
     "name": "stdout",
     "output_type": "stream",
     "text": [
      "(28000,)\n",
      "[1 2 3 4 5]\n"
     ]
    }
   ],
   "source": [
    "print(ImageId.shape)\n",
    "print(ImageId[0:5])"
   ]
  },
  {
   "cell_type": "code",
   "execution_count": 58,
   "metadata": {},
   "outputs": [
    {
     "name": "stdout",
     "output_type": "stream",
     "text": [
      "(28000, 2)\n"
     ]
    }
   ],
   "source": [
    "predictions_data = np.array([ImageId, predictions]).astype(int).T\n",
    "print(predictions_data.shape)"
   ]
  },
  {
   "cell_type": "code",
   "execution_count": 60,
   "metadata": {},
   "outputs": [],
   "source": [
    "np.savetxt(\"simple_nn_predictions.csv\", predictions_data, delimiter=\",\")"
   ]
  },
  {
   "cell_type": "code",
   "execution_count": null,
   "metadata": {},
   "outputs": [],
   "source": []
  }
 ],
 "metadata": {
  "kernelspec": {
   "display_name": "Python 3",
   "language": "python",
   "name": "python3"
  },
  "language_info": {
   "codemirror_mode": {
    "name": "ipython",
    "version": 3
   },
   "file_extension": ".py",
   "mimetype": "text/x-python",
   "name": "python",
   "nbconvert_exporter": "python",
   "pygments_lexer": "ipython3",
   "version": "3.7.6"
  }
 },
 "nbformat": 4,
 "nbformat_minor": 4
}
